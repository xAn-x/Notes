{
 "cells": [
  {
   "cell_type": "markdown",
   "metadata": {},
   "source": [
    "#### `FLAX: A Neural Network Library for JAX`\n",
    "\n",
    "Flax is a neural network library for JAX that is designed to be flexible, efficient, and easy to use. \n",
    "\n",
    "It provides a high-level API for building and training neural networks, as well as a low-level API for implementing custom layers and optimizers.\n",
    "\n",
    "Flax now has support for 2 APIs:\n",
    "-   [Flax Linen](https://flax-linen.readthedocs.io/en/latest/) (`flax.linen`): A high-level API for building neural networks. It is designed to be easy to use and to support a wide range of neural network architectures. Linen is built on top of JAX's functional programming primitives, which makes it easy to write efficient and scalable code. \n",
    "\n",
    "    Flax linen uses lazy evaluation to build neural networks and is bit complex to use cmp to `Flax.nnx`\n",
    "\n",
    "<hr/>\n",
    "\n",
    "- [Flax NNX](https://flax.readthedocs.io/en/latest/index.html) (`flax.nnx`): A simplified API that makes it easier to create, inspect, debug, and analyze neural networks in JAX. Flax NNX has first class support for Python reference semantics, enabling users to express their models using regular Python objects. Flax NNX is an evolution of the previous Flax Linen.\n",
    "\n",
    "    Flax NNX is a bit easier to use than Flax Linen. It is designed to be a simple and intuitive API for building neural networks. It is pythonic and easy to use."
   ]
  },
  {
   "cell_type": "code",
   "execution_count": 1,
   "metadata": {},
   "outputs": [],
   "source": [
    "import jax\n",
    "import jax.numpy as jnp\n",
    "import flax\n",
    "from flax import linen as nn"
   ]
  },
  {
   "cell_type": "code",
   "execution_count": 2,
   "metadata": {},
   "outputs": [],
   "source": [
    "# Every Module in Flax is a subclass of nn.Module\n",
    "# A Module in linen is a dataclass\n",
    "class MyModule(nn.Module):\n",
    "    # define parameters such as hidden-size,activation,etc\n",
    "    def setup(self):\n",
    "        # initalize model here\n",
    "        pass\n",
    "\n",
    "    def __call__(self,x):\n",
    "        # forward pass here\n",
    "        pass\n",
    "\n",
    "# ==================== or =======================\n",
    "\n",
    "class MyModuleCompact(nn.Module):\n",
    "    # define parameters such as hidden-size,activation,etc\n",
    "    @nn.compact\n",
    "    def __call__(self,x):\n",
    "        # nn.compact takes care of initializing parameters\n",
    "        # forward pass here\n",
    "        pass"
   ]
  },
  {
   "cell_type": "markdown",
   "metadata": {},
   "source": [
    "### `Param & Variable in Flax`\n",
    "In Flax, the concepts of parameters (params) and variables are central to defining and managing the state of neural networks.\n",
    "\n",
    "👉🏻 _Parameters (params)_\n",
    "Parameters in Flax are the trainable weights and biases of a neural network. They are typically defined within the setup method of a Flax module and are used to compute the outputs of the network. Parameters are stored in a nested dictionary structure.\n",
    "\n",
    "👉🏻 _Variables_\n",
    "Variables in Flax can include parameters, but they can also include other types of state, such as batch statistics for batch normalization or running averages for momentum. Variables are more general and can be used to store any kind of state that the model needs to maintain.These hold other mutable state that's not directly optimized (e.g., batch statistics for BatchNorm, non-trainable embeddings, or other internal state). They can be updated using explicit assign operations within the @flax.struct.dataclass that holds them.\n",
    "\n",
    "<hr/>\n",
    "\n",
    "__When to Use What?__\n",
    "\n",
    "Parameters (params):\n",
    "\n",
    "Use parameters for trainable weights and biases.\n",
    "These are the primary components that are optimized during training.\n",
    "Example: Weights and biases in dense layers.\n",
    "Variables:\n",
    "\n",
    "Variables:\n",
    "\n",
    "Use variables for any state that the model needs to maintain.\n",
    "This can include parameters, but also other types of state like batch statistics.\n",
    "Example: Batch statistics in batch normalization layers.\n",
    "\n"
   ]
  },
  {
   "cell_type": "code",
   "execution_count": 187,
   "metadata": {},
   "outputs": [],
   "source": [
    "import flax.linen as nn\n",
    "import jax\n",
    "import jax.numpy as jnp\n",
    "\n",
    "# Custom layer with its own parameters\n",
    "class MyCustomLayer(nn.Module):\n",
    "    features: int  # Number of output features\n",
    "    @nn.compact\n",
    "    def __call__(self, x):\n",
    "        # Initialize parameters (kernel and bias) using `self.param`\n",
    "        kernel = self.param('kernel', nn.initializers.lecun_normal(), \n",
    "                            (x.shape[-1], self.features))\n",
    "        bias = self.param('bias', nn.initializers.zeros, (self.features,))\n",
    "        return jnp.dot(x, kernel) + bias\n",
    "\n",
    "\n",
    "# Example of a module using variables for mutable state (e.g., a running average)\n",
    "class MyModuleWithState(nn.Module):\n",
    "    @nn.compact\n",
    "    def __call__(self, x, train=True):\n",
    "        # Initialize a variable to keep track of the running average\n",
    "        running_avg = self.variable('state', 'running_avg', lambda: jnp.zeros(x.shape[1:]),\n",
    "                                    jnp.zeros(x.shape[1:]))\n",
    "\n",
    "\n",
    "        if train:\n",
    "            current_avg = x.mean(axis=0)  # Calculate the average of the current batch\n",
    "            # Update the running average (using a simple moving average here)\n",
    "            new_running_avg = 0.9 * running_avg.value + 0.1 * current_avg\n",
    "            running_avg.value = new_running_avg\n",
    "\n",
    "        # Use the running average in some way (e.g., normalize the input)\n",
    "        x = x / (running_avg.value + 1e-6)  # Add a small epsilon for stability\n",
    "        return x"
   ]
  },
  {
   "cell_type": "code",
   "execution_count": 2,
   "metadata": {},
   "outputs": [],
   "source": [
    "from typing import Callable,Any,Sequence\n",
    "import flax.linen as nn\n",
    "\n",
    "class SimpleClassificationModel(nn.Module):\n",
    "    feature_sizes: Sequence[int]\n",
    "    activation: Callable[[jnp.ndarray], jnp.ndarray] = nn.relu\n",
    "    kernel_init: Callable[[jax.random.PRNGKey, jnp.ndarray, Any], jnp.ndarray] = nn.initializers.lecun_normal()\n",
    "    bias_init: Callable[[jax.random.PRNGKey, jnp.ndarray, Any], jnp.ndarray] = nn.initializers.zeros\n",
    "\n",
    "    @nn.compact\n",
    "    def __call__(self, x):\n",
    "        for features in self.feature_sizes:\n",
    "            x = nn.Dense(features, kernel_init=self.kernel_init, bias_init=self.bias_init)(x)\n",
    "            x = self.activation(x)\n",
    "        return x\n"
   ]
  },
  {
   "cell_type": "code",
   "execution_count": 3,
   "metadata": {},
   "outputs": [
    {
     "data": {
      "text/plain": [
       "SimpleClassificationModel(\n",
       "    # attributes\n",
       "    feature_sizes = [10, 10, 1]\n",
       "    activation = tanh\n",
       "    kernel_init = init\n",
       "    bias_init = zeros\n",
       ")"
      ]
     },
     "execution_count": 3,
     "metadata": {},
     "output_type": "execute_result"
    }
   ],
   "source": [
    "model=SimpleClassificationModel(feature_sizes=[10,10,1],activation=nn.tanh)\n",
    "model"
   ]
  },
  {
   "cell_type": "code",
   "execution_count": 190,
   "metadata": {},
   "outputs": [
    {
     "name": "stdout",
     "output_type": "stream",
     "text": [
      "dict_keys(['params'])\n"
     ]
    }
   ],
   "source": [
    "# At this stage, the model has no parameters initialized. To do this, let’s create a random input of our dataset, and apply the init function:\n",
    "rng=jax.random.key(42)\n",
    "rng,inp_rng,init_rng=jax.random.split(rng,3)\n",
    "\n",
    "x=jax.random.normal(inp_rng,(10,2)) # (Batch,Features)\n",
    "variables=model.init(init_rng,x) \n",
    "\n",
    "# Flax-linen return params as a nested dictionary of parameters. This make it easy to mutate and update the parameters during training. \n",
    "print(variables.keys())"
   ]
  },
  {
   "cell_type": "code",
   "execution_count": 191,
   "metadata": {},
   "outputs": [
    {
     "name": "stdout",
     "output_type": "stream",
     "text": [
      "params: {'Dense_0': {'bias': (10,), 'kernel': (2, 10)}, 'Dense_1': {'bias': (10,), 'kernel': (10, 10)}, 'Dense_2': {'bias': (1,), 'kernel': (10, 1)}}\n"
     ]
    }
   ],
   "source": [
    "# batch_stats are the running mean and variance of the batch normalization layers. These are updated during training and are used during inference. This prop will present if use batch-norm layer in the model.\n",
    "# params are the weights and biases of the dense layers. These are updated during training. \n",
    "print_shape=lambda x:jax.tree.map(lambda p:p.shape,x)\n",
    "\n",
    "print(\"params:\",print_shape(variables[\"params\"]))"
   ]
  },
  {
   "cell_type": "code",
   "execution_count": 192,
   "metadata": {},
   "outputs": [
    {
     "name": "stdout",
     "output_type": "stream",
     "text": [
      "Num parameters:151\n"
     ]
    }
   ],
   "source": [
    "import numpy as np\n",
    "print(f\"Num parameters:{jax.tree.reduce(lambda reduce,x:np.prod(x.shape)+reduce,variables['params'],initializer=0)}\")"
   ]
  },
  {
   "cell_type": "markdown",
   "metadata": {},
   "source": [
    "### `Dataset:`"
   ]
  },
  {
   "cell_type": "code",
   "execution_count": 4,
   "metadata": {},
   "outputs": [
    {
     "name": "stdout",
     "output_type": "stream",
     "text": [
      "Size of dataset: 2500\n",
      "Data point 0: (array([0.05211224, 1.0645216 ], dtype=float32), np.int32(1))\n"
     ]
    }
   ],
   "source": [
    "from torch.utils.data import Dataset,DataLoader,random_split\n",
    "import numpy as np\n",
    "\n",
    "class XORDataset(Dataset):\n",
    "\n",
    "    def __init__(self, size, seed, std=0.1):\n",
    "        \"\"\"\n",
    "        Inputs:\n",
    "            size - Number of data points we want to generate\n",
    "            seed - The seed to use to create the PRNG state with which we want to generate the data points\n",
    "            std - Standard deviation of the noise (see generate_continuous_xor function)\n",
    "        \"\"\"\n",
    "        super().__init__()\n",
    "        self.size = size\n",
    "        self.np_rng = np.random.RandomState(seed=seed)\n",
    "        self.std = std\n",
    "        self.generate_continuous_xor()\n",
    "\n",
    "    def generate_continuous_xor(self):\n",
    "        # Each data point in the XOR dataset has two variables, x and y, that can be either 0 or 1\n",
    "        # The label is their XOR combination, i.e. 1 if only x or only y is 1 while the other is 0.\n",
    "        # If x=y, the label is 0.\n",
    "        data = self.np_rng.randint(low=0, high=2, size=(self.size, 2)).astype(np.float32)\n",
    "        label = (data.sum(axis=1) == 1).astype(np.int32)\n",
    "        # To make it slightly more challenging, we add a bit of gaussian noise to the data points.\n",
    "        data += self.np_rng.normal(loc=0.0, scale=self.std, size=data.shape)\n",
    "\n",
    "        self.data = data\n",
    "        self.label = label\n",
    "\n",
    "    def __len__(self):\n",
    "        # Number of data point we have. Alternatively self.data.shape[0], or self.label.shape[0]\n",
    "        return self.size\n",
    "\n",
    "    def __getitem__(self, idx):\n",
    "        # Return the idx-th data point of the dataset\n",
    "        # If we have multiple things to return (data point and label), we can return them as tuple\n",
    "        data_point = self.data[idx]\n",
    "        data_label = self.label[idx]\n",
    "        return data_point, data_label\n",
    "    \n",
    "\n",
    "dataset = XORDataset(size=2500, seed=42)\n",
    "print(\"Size of dataset:\", len(dataset))\n",
    "print(\"Data point 0:\", dataset[0])"
   ]
  },
  {
   "cell_type": "code",
   "execution_count": 5,
   "metadata": {},
   "outputs": [
    {
     "name": "stdout",
     "output_type": "stream",
     "text": [
      "Train size:2000,Test size:500\n",
      "Train-DL size:15,Val-DL size:3\n",
      "<class 'numpy.ndarray'> <class 'numpy.ndarray'>\n",
      "float32 int32\n",
      "(128, 2) (128, 1)\n"
     ]
    }
   ],
   "source": [
    "train_size=int(0.8*len(dataset))\n",
    "test_size=len(dataset)-train_size\n",
    "\n",
    "train_ds,val_ds=random_split(dataset,[train_size,test_size])\n",
    "\n",
    "print(f\"Train size:{len(train_ds)},Test size:{len(val_ds)}\")\n",
    "\n",
    "# Dataloader\n",
    "\n",
    "def numpy_collate(batch):\n",
    "   x,y=zip(*batch)\n",
    "   return np.vstack(x),np.vstack(y)\n",
    "\n",
    "batch_size=128\n",
    "train_dl=DataLoader(train_ds,batch_size=batch_size,shuffle=False,collate_fn=numpy_collate,drop_last=True)\n",
    "val_dl=DataLoader(val_ds,batch_size=batch_size,shuffle=False,collate_fn=numpy_collate,drop_last=True)\n",
    "\n",
    "print(f\"Train-DL size:{len(train_dl)},Val-DL size:{len(val_dl)}\")\n",
    "for batch in train_dl:\n",
    "   x,y=batch\n",
    "   print(type(x),type(y))\n",
    "   print(x.dtype,y.dtype)\n",
    "   print(x.shape,y.shape)\n",
    "   break\n",
    "\n"
   ]
  },
  {
   "cell_type": "code",
   "execution_count": 6,
   "metadata": {},
   "outputs": [
    {
     "data": {
      "image/png": "[encoded data removed]",
      "text/plain": [
       "<Figure size 400x400 with 1 Axes>"
      ]
     },
     "metadata": {},
     "output_type": "display_data"
    }
   ],
   "source": [
    "import matplotlib.pyplot as plt\n",
    "\n",
    "def visualize_samples(data, label):\n",
    "    data_0 = data[(label == 0).flatten()]\n",
    "    data_1 = data[(label == 1).flatten()]\n",
    "\n",
    "    plt.figure(figsize=(4,4))\n",
    "    plt.scatter(data_0[:,0], data_0[:,1], edgecolor=\"#333\", label=\"Class 0\")\n",
    "    plt.scatter(data_1[:,0], data_1[:,1], edgecolor=\"#333\", label=\"Class 1\")\n",
    "    plt.title(\"Dataset samples\")\n",
    "    plt.ylabel(r\"$x_2$\")\n",
    "    plt.xlabel(r\"$x_1$\")\n",
    "    plt.legend()\n",
    "\n",
    "visualize_samples(x, y)"
   ]
  },
  {
   "cell_type": "markdown",
   "metadata": {},
   "source": [
    "### `Training loop from scratch`"
   ]
  },
  {
   "cell_type": "code",
   "execution_count": 196,
   "metadata": {},
   "outputs": [],
   "source": [
    "import optax \n",
    "from typing import Any,Callable\n",
    "\n",
    "\n",
    "def get_loss_fn(model:SimpleClassificationModel)->Callable:\n",
    "    @jax.jit\n",
    "    def accuracy(logits,y_true):\n",
    "        y_pred=(logits > 0).astype(jnp.float32)\n",
    "        return (y_pred==y_true).mean()\n",
    "\n",
    "\n",
    "    @jax.jit\n",
    "    def loss_fn(params:dict[str,Any],batch:tuple[jnp.ndarray,jnp.ndarray])->tuple[jax.Array,jax.Array]:\n",
    "        x,y=batch\n",
    "        logits=model.apply({'params':params},x) # if u also have batch_stats -> y_pred,update_batch_stats=model.apply({'params':params,'batch_stats':batch_stats},x,mutable=['batch_stats'])\n",
    "        loss=optax.sigmoid_binary_cross_entropy(logits,y).mean()\n",
    "        acc=accuracy(logits,y)\n",
    "        return loss,acc\n",
    "    \n",
    "    return loss_fn\n",
    "\n",
    "def train_step(loss_fn:Callable,batch:tuple[jnp.ndarray,jnp.ndarray],tx:optax.GradientTransformation,opt_state:optax.OptState,variables:dict[str,Any])->tuple[dict[str,Any],optax.OptState,jnp.ndarray]:\n",
    "     (loss,acc),grads=jax.value_and_grad(loss_fn,has_aux=True)(variables['params'],batch) # if u also have batch_stats -> variables={'params':variables['params'],'batch_stats':variables['batch_stats']}\n",
    "     updates,opt_state=tx.update(grads,opt_state,variables['params']) \n",
    "     variables['params']=optax.apply_updates(variables['params'],updates)\n",
    "     return variables,opt_state,loss,acc"
   ]
  },
  {
   "cell_type": "code",
   "execution_count": 197,
   "metadata": {},
   "outputs": [
    {
     "name": "stdout",
     "output_type": "stream",
     "text": [
      "Epoch:3 Train Loss:0.3157 | Train Acc:1.0000 | Val Loss:0.3140 | Val Acc:1.0000\n",
      "Epoch:6 Train Loss:0.3136 | Train Acc:1.0000 | Val Loss:0.3135 | Val Acc:1.0000\n",
      "Epoch:9 Train Loss:0.3135 | Train Acc:1.0000 | Val Loss:0.3134 | Val Acc:1.0000\n",
      "Epoch:12 Train Loss:0.3134 | Train Acc:1.0000 | Val Loss:0.3134 | Val Acc:1.0000\n",
      "Epoch:15 Train Loss:0.3134 | Train Acc:1.0000 | Val Loss:0.3134 | Val Acc:1.0000\n",
      "Epoch:18 Train Loss:0.3134 | Train Acc:1.0000 | Val Loss:0.3133 | Val Acc:1.0000\n",
      "Epoch:21 Train Loss:0.3133 | Train Acc:1.0000 | Val Loss:0.3133 | Val Acc:1.0000\n",
      "Epoch:24 Train Loss:0.3133 | Train Acc:1.0000 | Val Loss:0.3133 | Val Acc:1.0000\n",
      "Epoch:27 Train Loss:0.3133 | Train Acc:1.0000 | Val Loss:0.3133 | Val Acc:1.0000\n",
      "Epoch:30 Train Loss:0.3133 | Train Acc:1.0000 | Val Loss:0.3133 | Val Acc:1.0000\n"
     ]
    }
   ],
   "source": [
    "EPOCHS=30\n",
    "tx=optax.adamw(learning_rate=0.03)\n",
    "opt_state=tx.init(variables['params'])\n",
    "loss_fn=get_loss_fn(model)\n",
    "\n",
    "history={'train_loss':[],'val_loss':[],'train_accuracy':[],'val_accuracy':[]}\n",
    "\n",
    "for epoch in range(EPOCHS):\n",
    "    train_loss,val_loss=0.0,0.0\n",
    "    train_acc,val_acc=0.0,0.0\n",
    "    for batch in train_dl:\n",
    "        variables,opt_state,loss,acc=train_step(loss_fn,batch,tx,opt_state,variables)\n",
    "        train_loss+=loss\n",
    "        train_acc+=acc\n",
    "    train_loss/=len(train_dl)\n",
    "    train_acc/=len(train_dl)\n",
    "\n",
    "    for batch in val_dl:\n",
    "        loss,acc=loss_fn(variables['params'],batch)\n",
    "        val_loss+=loss\n",
    "        val_acc+=acc\n",
    "    val_loss/=len(val_dl)\n",
    "    val_acc/=len(val_dl)\n",
    "\n",
    "    history['train_loss'].append(train_loss)\n",
    "    history['val_loss'].append(val_loss)\n",
    "    history['train_accuracy'].append(train_acc)\n",
    "    history['val_accuracy'].append(val_acc)\n",
    "\n",
    "    if (epoch+1)%3==0:\n",
    "        print(f\"Epoch:{epoch+1} Train Loss:{train_loss:.4f} | Train Acc:{train_acc:.4f} | Val Loss:{val_loss:.4f} | Val Acc:{val_acc:.4f}\")"
   ]
  },
  {
   "cell_type": "code",
   "execution_count": 198,
   "metadata": {},
   "outputs": [
    {
     "data": {
      "text/plain": [
       "<matplotlib.legend.Legend at 0x1ca988a6570>"
      ]
     },
     "execution_count": 198,
     "metadata": {},
     "output_type": "execute_result"
    },
    {
     "data": {
      "image/png": "[encoded data removed]",
      "text/plain": [
       "<Figure size 640x480 with 1 Axes>"
      ]
     },
     "metadata": {},
     "output_type": "display_data"
    }
   ],
   "source": [
    "plt.plot(history['train_loss'],label='train_loss')\n",
    "plt.plot(history['val_loss'],label='val_loss')\n",
    "plt.legend()"
   ]
  },
  {
   "cell_type": "code",
   "execution_count": 199,
   "metadata": {},
   "outputs": [
    {
     "data": {
      "text/plain": [
       "<matplotlib.legend.Legend at 0x1ca9888f5c0>"
      ]
     },
     "execution_count": 199,
     "metadata": {},
     "output_type": "execute_result"
    },
    {
     "data": {
      "image/png": "[encoded data removed]",
      "text/plain": [
       "<Figure size 640x480 with 1 Axes>"
      ]
     },
     "metadata": {},
     "output_type": "display_data"
    }
   ],
   "source": [
    "plt.plot(history['train_accuracy'],label='train_accuracy')\n",
    "plt.plot(history['val_accuracy'],label='val_accuracy')\n",
    "plt.legend()"
   ]
  },
  {
   "cell_type": "markdown",
   "metadata": {},
   "source": [
    "### `TrainState to simplify the training loop:`"
   ]
  },
  {
   "cell_type": "code",
   "execution_count": 25,
   "metadata": {},
   "outputs": [
    {
     "name": "stdout",
     "output_type": "stream",
     "text": [
      "Model:SimpleClassificationModel(\n",
      "    # attributes\n",
      "    feature_sizes = [10, 10, 1]\n",
      "    activation = tanh\n",
      "    kernel_init = init\n",
      "    bias_init = zeros\n",
      ")\n",
      "Variables:dict_keys(['params'])\n"
     ]
    }
   ],
   "source": [
    "import jax\n",
    "import jax.numpy as jnp\n",
    "\n",
    "import flax \n",
    "from flax import linen as nn\n",
    "from flax.training import train_state\n",
    "\n",
    "import numpy as np\n",
    "import matplotlib.pyplot as plt\n",
    "\n",
    "import optax\n",
    "from typing import Any,Callable\n",
    "\n",
    "\n",
    "model=SimpleClassificationModel([10,10,1],activation=nn.tanh)\n",
    "print(f\"Model:{model}\")\n",
    "\n",
    "\n",
    "variables=model.init(jax.random.PRNGKey(0),x)\n",
    "print(f\"Variables:{variables.keys()}\")\n",
    "\n",
    "# A Trainstate in Flax is a simple container for the parameters, state, and optimizer of a model.\n",
    "# It also provides a few convenience methods for updating the parameters and state, and for applying the model to inputs.\n",
    "# This can make the training loop a bit simpler and more concise.\n",
    "model_state=train_state.TrainState.create(\n",
    "    apply_fn=model.apply,\n",
    "    params=variables['params'], # parameters over which we want to optimize\n",
    "    tx=optax.adamw(learning_rate=0.1)\n",
    ")\n",
    "\n",
    "from typing import Any,Callable\n",
    "\n",
    "def get_loss_fn()->Callable:\n",
    "    @jax.jit\n",
    "    def accuracy(logits,y):\n",
    "        preds=(logits>0.).astype(jnp.float32)\n",
    "        return jnp.mean(preds==y)\n",
    "    \n",
    "    @jax.jit\n",
    "    def calc_acc_and_loss(params:dict[str,Any],state:train_state.TrainState,batch:tuple[np.ndarray,np.ndarray])->tuple[jnp.ndarray,jnp.ndarray]:\n",
    "\n",
    "        x,y=batch\n",
    "        logits=state.apply_fn({'params':params},x) # apply_fn is the model's forward pass\n",
    "        loss=jnp.mean(optax.sigmoid_binary_cross_entropy(logits,y))\n",
    "        acc=accuracy(logits,y)\n",
    "        return loss,acc\n",
    "    return calc_acc_and_loss\n",
    "\n",
    "\n",
    "def train_step(loss_fn:Callable,state:train_state.TrainState,batch:tuple[np.ndarray,np.ndarray]):\n",
    "    (loss,acc),grads=jax.value_and_grad(loss_fn,has_aux=True)(state.params,state,batch)\n",
    "    model_state=state.apply_gradients(grads=grads) # apply_gradients updates the parameters and state of the model\n",
    "    return loss,acc,model_state\n"
   ]
  },
  {
   "cell_type": "code",
   "execution_count": 26,
   "metadata": {},
   "outputs": [
    {
     "name": "stdout",
     "output_type": "stream",
     "text": [
      "Epoch:3 Train Loss:0.3133 | Train Acc:1.0000 | Val Loss:0.3133 | Val Acc:1.0000\n",
      "Epoch:6 Train Loss:0.3133 | Train Acc:1.0000 | Val Loss:0.3133 | Val Acc:1.0000\n",
      "Epoch:9 Train Loss:0.3133 | Train Acc:1.0000 | Val Loss:0.3133 | Val Acc:1.0000\n",
      "Epoch:12 Train Loss:0.3133 | Train Acc:1.0000 | Val Loss:0.3133 | Val Acc:1.0000\n",
      "Epoch:15 Train Loss:0.3133 | Train Acc:1.0000 | Val Loss:0.3133 | Val Acc:1.0000\n",
      "Epoch:18 Train Loss:0.3133 | Train Acc:1.0000 | Val Loss:0.3133 | Val Acc:1.0000\n",
      "Epoch:21 Train Loss:0.3133 | Train Acc:1.0000 | Val Loss:0.3133 | Val Acc:1.0000\n",
      "Epoch:24 Train Loss:0.3133 | Train Acc:1.0000 | Val Loss:0.3133 | Val Acc:1.0000\n",
      "Epoch:27 Train Loss:0.3133 | Train Acc:1.0000 | Val Loss:0.3133 | Val Acc:1.0000\n",
      "Epoch:30 Train Loss:0.3133 | Train Acc:1.0000 | Val Loss:0.3133 | Val Acc:1.0000\n"
     ]
    }
   ],
   "source": [
    "EPOCHS=30\n",
    "history={'train_loss':[],'val_loss':[],'train_accuracy':[],'val_accuracy':[]}\n",
    "\n",
    "loss_fn=get_loss_fn()\n",
    "for epoch in range(EPOCHS):\n",
    "    train_loss,val_loss=0.0,0.0\n",
    "    train_acc,val_acc=0.0,0.0\n",
    "    for batch in train_dl:\n",
    "        loss,acc,model_state=train_step(loss_fn,model_state,batch)\n",
    "        train_loss+=loss\n",
    "        train_acc+=acc\n",
    "    train_loss/=len(train_dl)\n",
    "    train_acc/=len(train_dl)\n",
    "\n",
    "    for batch in val_dl:\n",
    "        loss,acc=loss_fn(model_state.params,model_state,batch)\n",
    "        val_loss+=loss\n",
    "        val_acc+=acc\n",
    "    val_loss/=len(val_dl)\n",
    "    val_acc/=len(val_dl)\n",
    "\n",
    "    history['train_loss'].append(train_loss)\n",
    "    history['val_loss'].append(val_loss)\n",
    "    history['train_accuracy'].append(train_acc)\n",
    "    history['val_accuracy'].append(val_acc)\n",
    "\n",
    "    if (epoch+1)%3==0:\n",
    "        print(f\"Epoch:{epoch+1} Train Loss:{train_loss:.4f} | Train Acc:{train_acc:.4f} | Val Loss:{val_loss:.4f} | Val Acc:{val_acc:.4f}\")"
   ]
  },
  {
   "cell_type": "code",
   "execution_count": 27,
   "metadata": {},
   "outputs": [
    {
     "data": {
      "text/plain": [
       "<matplotlib.legend.Legend at 0x1577a88cb00>"
      ]
     },
     "execution_count": 27,
     "metadata": {},
     "output_type": "execute_result"
    },
    {
     "data": {
      "image/png": "[encoded data removed]",
      "text/plain": [
       "<Figure size 640x480 with 1 Axes>"
      ]
     },
     "metadata": {},
     "output_type": "display_data"
    }
   ],
   "source": [
    "plt.plot(history['train_loss'],label='train_loss')\n",
    "plt.plot(history['val_loss'],label='val_loss')\n",
    "plt.legend()\n",
    "\n"
   ]
  },
  {
   "cell_type": "code",
   "execution_count": 28,
   "metadata": {},
   "outputs": [
    {
     "data": {
      "text/plain": [
       "<matplotlib.legend.Legend at 0x157011c3b30>"
      ]
     },
     "execution_count": 28,
     "metadata": {},
     "output_type": "execute_result"
    },
    {
     "data": {
      "image/png": "[encoded data removed]",
      "text/plain": [
       "<Figure size 640x480 with 1 Axes>"
      ]
     },
     "metadata": {},
     "output_type": "display_data"
    }
   ],
   "source": [
    "plt.plot(history['train_accuracy'],label='train_accuracy')\n",
    "plt.plot(history['val_accuracy'],label='val_accuracy')\n",
    "plt.legend()"
   ]
  },
  {
   "cell_type": "markdown",
   "metadata": {},
   "source": [
    "### `Saving and Loading Models`"
   ]
  },
  {
   "cell_type": "code",
   "execution_count": 35,
   "metadata": {},
   "outputs": [
    {
     "data": {
      "text/plain": [
       "'d:\\\\Deep Learning From Scratch\\\\JAX\\\\checkpoints\\\\ckpt-30'"
      ]
     },
     "execution_count": 35,
     "metadata": {},
     "output_type": "execute_result"
    }
   ],
   "source": [
    "# To save and load models in Flax, we can use the flax.serialization.to_bytes() and flax.serialization.from_bytes() functions, or flax.serialization.to_state_dict() and flax.serialization.from_state_dict()\n",
    "\n",
    "# Or we can use checkpoint.save() and checkpoint.restore() to save and restore the model state.\n",
    "\n",
    "from flax.training import checkpoints\n",
    "import os\n",
    "\n",
    "checkpoints.save_checkpoint(ckpt_dir=f\"{os.getcwd()}/checkpoints\",target=model_state,prefix=\"ckpt-\",step=30,overwrite=True)\n",
    "\n",
    "# To load the model state, we can use the checkpoint.restore() function.\n",
    "# model_state=checkpoints.restore_checkpoint(ckpt_dir=\"./checkpoints\",target=model_state,prefix=\"ckpt-\",step=30)"
   ]
  },
  {
   "cell_type": "code",
   "execution_count": 42,
   "metadata": {},
   "outputs": [
    {
     "name": "stdout",
     "output_type": "stream",
     "text": [
      "Val Loss:0.3133 | Val Acc:1.0000\n"
     ]
    }
   ],
   "source": [
    "# After training one can bind the model to the parameters , so that we can infer without need to explicitly call apply_fn\n",
    "\n",
    "model=model.bind({'params':model_state.params})\n",
    "\n",
    "for batch in val_dl:\n",
    "    x,y=batch\n",
    "    logits=model(x)\n",
    "    loss=jnp.mean(optax.sigmoid_binary_cross_entropy(logits,y))\n",
    "    acc=jnp.mean((logits>0.).astype(jnp.float32)==y)\n",
    "    print(f\"Val Loss:{loss:.4f} | Val Acc:{acc:.4f}\")\n",
    "    break"
   ]
  }
 ],
 "metadata": {
  "kernelspec": {
   "display_name": "ai_workbench",
   "language": "python",
   "name": "python3"
  },
  "language_info": {
   "codemirror_mode": {
    "name": "ipython",
    "version": 3
   },
   "file_extension": ".py",
   "mimetype": "text/x-python",
   "name": "python",
   "nbconvert_exporter": "python",
   "pygments_lexer": "ipython3",
   "version": "3.12.7"
  }
 },
 "nbformat": 4,
 "nbformat_minor": 2
}
