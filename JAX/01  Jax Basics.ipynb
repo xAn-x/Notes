{
 "cells": [
  {
   "cell_type": "code",
   "execution_count": 1,
   "metadata": {},
   "outputs": [],
   "source": [
    "from jax import grad, jit, vmap, pmap, random\n",
    "import jax.numpy as jnp"
   ]
  },
  {
   "cell_type": "code",
   "execution_count": 1,
   "metadata": {},
   "outputs": [
    {
     "ename": "NameError",
     "evalue": "name 'jnp' is not defined",
     "output_type": "error",
     "traceback": [
      "\u001b[1;31m---------------------------------------------------------------------------\u001b[0m",
      "\u001b[1;31mNameError\u001b[0m                                 Traceback (most recent call last)",
      "Cell \u001b[1;32mIn[1], line 4\u001b[0m\n\u001b[0;32m      1\u001b[0m \u001b[38;5;66;03m# Jax is a lib for scientific computation\u001b[39;00m\n\u001b[0;32m      2\u001b[0m \u001b[38;5;66;03m# It offer a nucdmpy-like API, but with automatic differentiation and GPU support\u001b[39;00m\n\u001b[0;32m      3\u001b[0m \u001b[38;5;66;03m# It is also a great tool for parallel computing\u001b[39;00m\n\u001b[1;32m----> 4\u001b[0m arr\u001b[38;5;241m=\u001b[39m\u001b[43mjnp\u001b[49m\u001b[38;5;241m.\u001b[39marange(\u001b[38;5;241m10\u001b[39m)\n\u001b[0;32m      5\u001b[0m arr,\u001b[38;5;28mtype\u001b[39m(arr)\n",
      "\u001b[1;31mNameError\u001b[0m: name 'jnp' is not defined"
     ]
    }
   ],
   "source": [
    "# Jax is a lib for scientific computation\n",
    "# It offer a nucdmpy-like API, but with automatic differentiation and GPU support\n",
    "# It is also a great tool for parallel computing\n",
    "arr=jnp.arange(10)\n",
    "arr,type(arr)"
   ]
  },
  {
   "cell_type": "markdown",
   "metadata": {},
   "source": [
    "## `Jax Design`"
   ]
  },
  {
   "cell_type": "markdown",
   "metadata": {},
   "source": [
    "- Jax is designed to work with pure functions\n",
    "- This means that the output of a function should only depend in its input\n",
    "- This is because Jax uses jit compilation to speed up computations\n",
    "- Jit compilation means that the function is compiled the first time it is called, and then the compiled version is used -or subsequent calls\n",
    "- This is done by tracing the computation graph and then traversing it\n",
    "- This means that the function must be deterministic\n",
    "\n",
    "- Secondly, jax don't support in-place operations\n",
    "- One need to use `.at[]` & `.set()` to perform any sort of modification,which will lead to a new array being created.\n",
    "\n",
    "- Finally, jax work in asynchronous manner, which means that jax won't wait for the computation to finish before moving on to the next line of code.\n",
    "- This is done to allow for parallel computing and efficient use of resources.\n",
    "- One need to use `print()` or `block_until_ready()` methods if one wants to wait for the computation to finish before moving on to the next line of code.\n"
   ]
  },
  {
   "cell_type": "code",
   "execution_count": 41,
   "metadata": {},
   "outputs": [
    {
     "name": "stdout",
     "output_type": "stream",
     "text": [
      "Impure function: 10\n",
      "Pure function: (10, 10)\n"
     ]
    }
   ],
   "source": [
    "# Impure function: Function that are statefull, or that have side effects. They mutate the state of program. There is no gurantee that the output will be the same for the same input.\n",
    "state=0\n",
    "\n",
    "def impure_func(x:int):\n",
    "     # impure as using the state \n",
    "    return x+state\n",
    "\n",
    "def pure_func(x:int,state:int):\n",
    "    new_state=state+x\n",
    "    return new_state,new_state\n",
    "\n",
    "print(f\"Impure function: {impure_func(10)}\")\n",
    "print(f\"Pure function: {pure_func(10,state=0)}\")"
   ]
  },
  {
   "cell_type": "code",
   "execution_count": 42,
   "metadata": {},
   "outputs": [
    {
     "name": "stdout",
     "output_type": "stream",
     "text": [
      "Impure function: 10\n",
      "Pure function: (Array(10, dtype=int32, weak_type=True), Array(10, dtype=int32, weak_type=True))\n",
      "Impure function: 10\n",
      "Pure function: (Array(30, dtype=int32, weak_type=True), Array(30, dtype=int32, weak_type=True))\n"
     ]
    }
   ],
   "source": [
    "# Let see the difference,when we jit-compile the functions\n",
    "impure_jit=jit(impure_func)\n",
    "pure_jit=jit(pure_func)\n",
    "\n",
    "print(f\"Impure function: {impure_jit(10)}\")\n",
    "print(f\"Pure function: {pure_jit(10,state=0)}\")\n",
    "\n",
    "# mutate the state \n",
    "state=20\n",
    "print(f\"Impure function: {impure_jit(10)}\") # This will print 10, instead of 30 as state is never traced by jit as not part of func\n",
    "print(f\"Pure function: {pure_jit(10,state=state)}\")"
   ]
  },
  {
   "cell_type": "code",
   "execution_count": 43,
   "metadata": {},
   "outputs": [
    {
     "name": "stdout",
     "output_type": "stream",
     "text": [
      "Impure trace: { \u001b[34m\u001b[22m\u001b[1mlambda \u001b[39m\u001b[22m\u001b[22m; a\u001b[35m:i32[]\u001b[39m. \u001b[34m\u001b[22m\u001b[1mlet\u001b[39m\u001b[22m\u001b[22m b\u001b[35m:i32[]\u001b[39m = add a 0 \u001b[34m\u001b[22m\u001b[1min \u001b[39m\u001b[22m\u001b[22m(b,) }\n",
      "Pure trace: { \u001b[34m\u001b[22m\u001b[1mlambda \u001b[39m\u001b[22m\u001b[22m; a\u001b[35m:i32[]\u001b[39m b\u001b[35m:i32[]\u001b[39m. \u001b[34m\u001b[22m\u001b[1mlet\u001b[39m\u001b[22m\u001b[22m c\u001b[35m:i32[]\u001b[39m = add b a \u001b[34m\u001b[22m\u001b[1min \u001b[39m\u001b[22m\u001b[22m(c, c) }\n"
     ]
    }
   ],
   "source": [
    "# Let see the trace for both functions\n",
    "from jax import make_jaxpr\n",
    "print(f\"Impure trace: {make_jaxpr(impure_func)(10)}\") # This is saying add 0 (init state) to var\n",
    "print(f\"Pure trace: {make_jaxpr(pure_func)(10,0)}\") # This is saying add b to a"
   ]
  },
  {
   "cell_type": "code",
   "execution_count": 45,
   "metadata": {},
   "outputs": [
    {
     "name": "stdout",
     "output_type": "stream",
     "text": [
      "2\n"
     ]
    }
   ],
   "source": [
    "# Note: In Jax when one tries to access out of bound index, it will clip the index to the last valid index, unlike numpy which throws an error\n",
    "# This behavior of JAX can lead to errors in code, as one may not be aware of it if not carefull.\n",
    "\n",
    "arr=jnp.arange(3)\n",
    "print(arr[10]) # This will print 2\n"
   ]
  },
  {
   "cell_type": "code",
   "execution_count": 46,
   "metadata": {},
   "outputs": [
    {
     "name": "stdout",
     "output_type": "stream",
     "text": [
      "28.8 ms ± 3.44 ms per loop (mean ± std. dev. of 7 runs, 10 loops each)\n"
     ]
    }
   ],
   "source": [
    "# Note Jax run the code in an aysnchronous manner, this means that the code will be executed in parallel, and the result will be returned when it is ready.\n",
    "# This is done to take advantage of the GPU, and to speed up the computation.\n",
    "# This is done by using XLA (Accelerated Linear Algebra) in JAX, which is a domain-specific compiler for linear algebra that can target GPUs and TPUs.\n",
    "# Use .block_until_ready() function to wait for the computation to finish and return the result.\n",
    "\n",
    "# Create two random matrices\n",
    "key=random.key(0)\n",
    "mat1 = random.normal(key,(1000, 1000))\n",
    "mat2 = random.normal(key,(1000, 1000))\n",
    "\n",
    "%timeit (mat1 @ mat2).block_until_ready()"
   ]
  },
  {
   "cell_type": "code",
   "execution_count": 47,
   "metadata": {},
   "outputs": [
    {
     "name": "stdout",
     "output_type": "stream",
     "text": [
      "`fn` time\n",
      "74.5 μs ± 11.8 μs per loop (mean ± std. dev. of 7 runs, 10,000 loops each)\n",
      "`jax.jit(fn)` first call time\n",
      "CPU times: total: 62.5 ms\n",
      "Wall time: 49.7 ms\n",
      "`jit_fn` time\n",
      "20.1 μs ± 3.25 μs per loop (mean ± std. dev. of 7 runs, 100,000 loops each)\n"
     ]
    }
   ],
   "source": [
    "import jax\n",
    "import jax.numpy as jnp\n",
    "from jax import random, jit, block_until_ready\n",
    "\n",
    "def fn(W, b, x):\n",
    "    return x @ W + b\n",
    "\n",
    "# Initialize the random key\n",
    "key = random.PRNGKey(0)\n",
    "\n",
    "# Split the key for generating different random values\n",
    "key, w_key, b_key, x_key = random.split(key, 4)\n",
    "\n",
    "# Generate random values for W, b, and x\n",
    "W = random.normal(w_key, (4, 2))\n",
    "b = random.uniform(b_key, (2,))\n",
    "x = random.normal(x_key, (4,))\n",
    "\n",
    "# Measure the time for the original function\n",
    "print(\"`fn` time\")\n",
    "%timeit fn(W, b, x).block_until_ready()\n",
    "\n",
    "# Create the jitted version of the function\n",
    "jit_fn = jit(fn)\n",
    "\n",
    "# Measure the time for the first call of the jitted function\n",
    "print(\"`jax.jit(fn)` first call time\")\n",
    "%time jit_fn(W, b, x).block_until_ready()\n",
    "\n",
    "# Measure the time for subsequent calls of the jitted function\n",
    "print(\"`jit_fn` time\")\n",
    "%timeit jit_fn(W, b, x).block_until_ready()"
   ]
  },
  {
   "cell_type": "markdown",
   "metadata": {},
   "source": [
    "## `Random Number Generation`\n",
    "\n",
    "### JAX Random Number Generation:\n",
    "- JAX uses a PRNG (Pseudo-Random Number Generator) key for random number generation. This key allows for reproducible and parallel-friendly random number generation.\n",
    "- When you split a PRNG key in JAX, you create independent streams of random numbers. This ensures that parallel processes can generate different sets of random numbers without interference.\n",
    "\n",
    "### NumPy Random Number Generation:\n",
    "- NumPy traditionally uses a global state for random number generation. This can lead to issues in parallel settings because the global state is shared among all processes.\n",
    "- If you call numpy.random functions from multiple threads or processes simultaneously, you might encounter race conditions or other synchronization issues, potentially leading to the same sequence of random numbers being generated."
   ]
  },
  {
   "cell_type": "code",
   "execution_count": 48,
   "metadata": {},
   "outputs": [
    {
     "name": "stdout",
     "output_type": "stream",
     "text": [
      "[0.5488135  0.71518937 0.60276338]\n",
      "[0.5488135  0.71518937 0.60276338]\n",
      "out1:[0.5488135039273248, 0.7151893663724195, 0.6027633760716439],out2:[0.5488135  0.71518937 0.60276338]\n"
     ]
    }
   ],
   "source": [
    "# In numpy we need to reset the gloabal set every time we need to generate the same number\n",
    "import numpy as np\n",
    "\n",
    "np.random.seed(0)\n",
    "print(np.random.rand(3))  # The function will consume the seed and move it to next value in PRNG sequence\n",
    "\n",
    "np.random.seed(0)\n",
    "print(np.random.rand(3))\n",
    "\n",
    "# In numpy creating n random numbers will consume n values in PRNG sequence no matter how u generate them,one-by-one or all n values at once\n",
    "np.random.seed(0)\n",
    "out1=[np.random.rand() for _ in range(3)]\n",
    "\n",
    "np.random.seed(0)\n",
    "out2=np.random.rand(3)\n",
    "print(f\"out1:{out1},out2:{out2}\")"
   ]
  },
  {
   "cell_type": "code",
   "execution_count": 49,
   "metadata": {},
   "outputs": [
    {
     "name": "stdout",
     "output_type": "stream",
     "text": [
      "key:Array((), dtype=key<fry>) overlaying:\n",
      "[0 0]\n",
      "[ 1.8160863  -0.48262316  0.33988908]\n",
      "[ 1.8160863  -0.48262316  0.33988908]\n",
      "[ 0.13893168  0.509335   -0.53116107]\n",
      "[ 1.1378784  -1.2209548  -0.59153634]\n",
      "out1:[ 1.8160863  -0.48262316  0.33988908]\n",
      "out2:[Array(-1.2515389, dtype=float32), Array(-0.58665055, dtype=float32), Array(0.48648307, dtype=float32)]\n"
     ]
    }
   ],
   "source": [
    "# In Jax we need to use PRNG key for random number generation\n",
    "# PRNG key is a 2-element array of 32-bit unsigned integers\n",
    "key=random.key(0)\n",
    "print(f\"key:{key}\")\n",
    "\n",
    "# Produce same number as we are using same key-every time\n",
    "print(random.normal(key,shape=(3,)))\n",
    "print(random.normal(key,shape=(3,)))\n",
    "\n",
    "\n",
    "# To have numpy like behavior pass different key everytime you want to have this behaviour\n",
    "key1,key2=random.split(key)\n",
    "print(random.normal(key1,shape=(3,)))\n",
    "print(random.normal(key2,shape=(3,)))\n",
    "\n",
    "\n",
    "# Note: Here for creating n random-values, we can either consume n different keys or can use 1 key only for n random number gen\n",
    "# Using 1 key\n",
    "out1=random.normal(key,(3,))\n",
    "out2=[]\n",
    "for i in range(3):\n",
    "    key,subkey=random.split(key)\n",
    "    out2.append(random.normal(subkey))\n",
    "\n",
    "print(f\"out1:{out1}\")\n",
    "print(f\"out2:{out2}\")"
   ]
  },
  {
   "cell_type": "markdown",
   "metadata": {},
   "source": [
    "## `Gradients:`"
   ]
  },
  {
   "cell_type": "code",
   "execution_count": 50,
   "metadata": {},
   "outputs": [
    {
     "name": "stdout",
     "output_type": "stream",
     "text": [
      "grad: [4. 6. 8.]\n",
      "value:26.0, grad:[4. 6. 8.]\n"
     ]
    }
   ],
   "source": [
    "# Gradient of a function is the derivative of the function with respect to its input\n",
    "# Jax provides a function called `grad` to compute the gradient of a function\n",
    "# Jax grad takes a function as input and returns a function that computes the gradient of the input function\n",
    "# Note: grad is used for scalar-valued functions, use jacobian for vector-valued functions\n",
    "\n",
    "def func(x):\n",
    "    return jnp.sum(x**2 + x*2)\n",
    "\n",
    "grad_func=grad(func)\n",
    "\n",
    "print(\"grad:\",grad_func(jnp.array([1.,2.,3.]))) # answer : 2x+2 => [4,6,8]\n",
    "\n",
    "# Other way\n",
    "from jax import value_and_grad\n",
    "val,grd=value_and_grad(func)(jnp.array([1.,2.,3.])) # ans: sum(func([1,2,3]),grad([1,2,3])\n",
    "\n",
    "print(f\"value:{val}, grad:{grd}\")"
   ]
  },
  {
   "cell_type": "markdown",
   "metadata": {},
   "source": [
    "## `Vectorization & Parallelization`"
   ]
  },
  {
   "cell_type": "markdown",
   "metadata": {},
   "source": [
    "- Jit hels us to vectorize and parallelize our code\n",
    "- Vectorization means that we can apply a function to a vector of inputs instead of applying it -o a single input (vmap)\n",
    "- Parallelization means that we can apply a function to a vector of inputs in parallel instead of sequentially (pmap)"
   ]
  },
  {
   "cell_type": "code",
   "execution_count": 52,
   "metadata": {},
   "outputs": [
    {
     "name": "stdout",
     "output_type": "stream",
     "text": [
      "Simple Conv:[ 5.  8. 11. 14.]\n",
      "Vmap Conv:[[ 5.  8. 11. 14.]\n",
      " [20. 23. 26. 29.]]\n"
     ]
    }
   ],
   "source": [
    "# -- vmap --\n",
    "# vmap is a function that takes a function and a vector of inputs and applies the function to each input in the vector\n",
    "# Help in batched computation\n",
    "from jax import Array\n",
    "def convolve(x:Array,wt:Array)->Array:\n",
    "    len_x,len_w=len(x),len(wt)\n",
    "    out=[]\n",
    "    for i in range(len_x-len_w+1):\n",
    "        out.append(jnp.sum(x[i:i+len_w]*wt))\n",
    "    return jnp.array(out)\n",
    "\n",
    "x=jnp.array([1.,2.,3.,4.,5.])\n",
    "wt=jnp.array([1.,2.])\n",
    "\n",
    "print(f\"Simple Conv:{convolve(x,wt)}\")\n",
    "\n",
    "# But if we have batch of input we can direclty use vmap,rather than re-writting function again\n",
    "bx=jnp.array([[1.,2.,3.,4.,5.],[6.,7.,8.,9.,10.]])\n",
    "wt=jnp.array([1.,2.])\n",
    "\n",
    "print(f\"Vmap Conv:{vmap(convolve,in_axes=(0,None),out_axes=(0))(bx,wt)}\")\n",
    "\n"
   ]
  },
  {
   "cell_type": "markdown",
   "metadata": {},
   "source": [
    "### `Understanding in_axes and out_axes` \n",
    "1. **in_axes**: This parameter specifies which axes of the input arguments should be mapped over. It is a tuple where each element corresponds to an axis of the respective input argument. The value can be:\n",
    "\n",
    "    - None: The argument is not mapped over.\n",
    "    - int: The axis of the argument to be mapped over.\n",
    "\n",
    "2. **out_axes**: This parameter specifies which axes of the output arguments should be mapped over. It is a tuple where each element corresponds to an axis of the respective output argument. The value can be:\n",
    "\n",
    "    - None: The output is not mapped over.\n",
    "    - int: The axis of the output to be mapped over."
   ]
  },
  {
   "cell_type": "code",
   "execution_count": 53,
   "metadata": {},
   "outputs": [
    {
     "name": "stdout",
     "output_type": "stream",
     "text": [
      "Simple Addition: [6. 6. 6. 6. 6.]\n",
      "Vmap Addition: [[ 6.  6.  6.  6.  6.]\n",
      " [16. 16. 16. 16. 16.]]\n",
      "Vmap Addition with Single y: [[ 6.  6.  6.  6.  6.]\n",
      " [11. 11. 11. 11. 11.]]\n"
     ]
    }
   ],
   "source": [
    "def add(x: jnp.ndarray, y: jnp.ndarray) -> jnp.ndarray:\n",
    "    return x + y\n",
    "\n",
    "# Example arrays\n",
    "x = jnp.array([1., 2., 3., 4., 5.])\n",
    "y = jnp.array([5., 4., 3., 2., 1.])\n",
    "\n",
    "# Simple addition\n",
    "print(f\"Simple Addition: {add(x, y)}\")\n",
    "\n",
    "# Now let's create batches of these arrays\n",
    "bx = jnp.array([[1., 2., 3., 4., 5.], [6., 7., 8., 9., 10.]])\n",
    "by = jnp.array([[5., 4., 3., 2., 1.], [10., 9., 8., 7., 6.]])\n",
    "\n",
    "# Using vmap to perform batch addition\n",
    "# in_axes=(0, 0) means we are mapping over the first axis (batch dimension) of both x and y\n",
    "# out_axes=0 means the output will have the batch dimension as the first axis\n",
    "result = vmap(add, in_axes=(0, 0), out_axes=0)(bx, by)\n",
    "\n",
    "print(f\"Vmap Addition: {result}\")\n",
    "\n",
    "# Let's consider another scenario where y is not batched\n",
    "# in_axes=(0, None) means we are mapping over the first axis of x, but not mapping over y\n",
    "# out_axes=0 means the output will have the batch dimension as the first axis\n",
    "y_single = jnp.array([5., 4., 3., 2., 1.])\n",
    "result_single = vmap(add, in_axes=(0, None), out_axes=0)(bx, y_single)\n",
    "\n",
    "print(f\"Vmap Addition with Single y: {result_single}\")\n"
   ]
  },
  {
   "cell_type": "code",
   "execution_count": 54,
   "metadata": {},
   "outputs": [],
   "source": [
    "# pmap is similar to vmap just across multiple devices\n",
    "# pmap is a function that takes a function and a vector of inputs and applies the function to each input in the vector in parallel\n",
    "# Help in distributed computation"
   ]
  },
  {
   "cell_type": "markdown",
   "metadata": {},
   "source": [
    "## jit: `Just-In-Time Compilation`\n",
    "- JIT is a technique that compiles a function into a more efficient version of the function that can be executed faster.\n",
    "- JIT is used to optimize the performance of a function by compiling it into a more efficient version of the function that can be executed faster.\n",
    "- JIT works with pure functions only.It first trace the function and then compile it.\n",
    "- JIT is used to optimize the performance of a function by compiling it into a more efficient version of the function that can be executed faster.\n",
    "- The tracer use the dtype and shape of input to decide wehther to compile the function or not."
   ]
  },
  {
   "cell_type": "code",
   "execution_count": 55,
   "metadata": {},
   "outputs": [],
   "source": [
    "def mse(target:jnp.ndarray,pred:jnp.ndarray)->jnp.ndarray:\n",
    "    return jnp.mean((target-pred)**2)\n",
    "\n",
    "jitted_mse=jit(mse)\n"
   ]
  },
  {
   "cell_type": "code",
   "execution_count": 56,
   "metadata": {},
   "outputs": [
    {
     "name": "stdout",
     "output_type": "stream",
     "text": [
      "10.9 ms ± 1.56 ms per loop (mean ± std. dev. of 7 runs, 100 loops each)\n"
     ]
    }
   ],
   "source": [
    "%%timeit\n",
    "mse(jnp.ones((1000,1000)),jnp.zeros((1000,1000)))"
   ]
  },
  {
   "cell_type": "code",
   "execution_count": 57,
   "metadata": {},
   "outputs": [],
   "source": [
    "temp=jitted_mse(jnp.ones((1000,1000)),jnp.zeros((1000,1000))) # for tracing"
   ]
  },
  {
   "cell_type": "code",
   "execution_count": 58,
   "metadata": {},
   "outputs": [
    {
     "name": "stdout",
     "output_type": "stream",
     "text": [
      "5.68 ms ± 215 μs per loop (mean ± std. dev. of 7 runs, 100 loops each)\n"
     ]
    }
   ],
   "source": [
    "%%timeit\n",
    "jitted_mse(jnp.ones((1000,1000)),jnp.zeros((1000,1000))) # Note: here we are using cpu,but jax jit best performs in an accelerated enviorment like gpu/tpu"
   ]
  },
  {
   "cell_type": "markdown",
   "metadata": {},
   "source": [
    "#### Note: _jax only runs for function without any side-effects, and only depends on dtype and shape of the input, so if u try to jit-compile a function whic depends on value of the input, it will not work._"
   ]
  },
  {
   "cell_type": "code",
   "execution_count": 59,
   "metadata": {},
   "outputs": [
    {
     "name": "stdout",
     "output_type": "stream",
     "text": [
      "Executing function\n",
      "1\n",
      "Executing function\n",
      "1\n",
      "2\n"
     ]
    }
   ],
   "source": [
    "def func_with_sideeffect(x):\n",
    "    print(\"Executing function\") # This will not-be traced and hence only printed the first time jax create trace for this funct,for subseuqent calls it will not print\n",
    "    return x\n",
    "\n",
    "jitted_func_with_sideeffect = jit(func_with_sideeffect)\n",
    "\n",
    "# This will print \"Executing function\" every time\n",
    "print(func_with_sideeffect(1))\n",
    "\n",
    "# This will print \"Executing function\" only once\n",
    "print(jitted_func_with_sideeffect(1))\n",
    "print(jitted_func_with_sideeffect(2))"
   ]
  },
  {
   "cell_type": "code",
   "execution_count": 60,
   "metadata": {},
   "outputs": [
    {
     "name": "stdout",
     "output_type": "stream",
     "text": [
      "1\n",
      "1\n"
     ]
    }
   ],
   "source": [
    "global_state=0\n",
    "def func_depending_on_globalstate(x):\n",
    "    return x+global_state # global_state will not be traced and tracked\n",
    "\n",
    "jitted_func=jit(func_depending_on_globalstate)\n",
    "\n",
    "print(jitted_func(1))\n",
    "global_state=10 # This will not be reflected in the jitted function\n",
    "print(jitted_func(1))"
   ]
  },
  {
   "cell_type": "code",
   "execution_count": 61,
   "metadata": {},
   "outputs": [
    {
     "name": "stdout",
     "output_type": "stream",
     "text": [
      "Can't jit the func: Attempted boolean conversion of traced array with shape bool[].\n",
      "The error occurred while tracing the function func at C:\\Users\\admin\\AppData\\Local\\Temp\\ipykernel_7512\\2965334908.py:2 for jit. This concrete value was not available in Python because it depends on the value of the argument x.\n",
      "See https://jax.readthedocs.io/en/latest/errors.html#jax.errors.TracerBoolConversionError\n"
     ]
    }
   ],
   "source": [
    "# We can't jit a func which depends on value of the input\n",
    "def func(x):\n",
    "    if x>0:\n",
    "        return x+1\n",
    "    else:\n",
    "        return x-1\n",
    "\n",
    "jitted_func=jit(func)\n",
    "\n",
    "try:\n",
    "    print(jitted_func(1))\n",
    "except Exception as e:\n",
    "    print(f\"Can't jit the func: {e}\")"
   ]
  },
  {
   "cell_type": "code",
   "execution_count": 62,
   "metadata": {},
   "outputs": [
    {
     "name": "stdout",
     "output_type": "stream",
     "text": [
      "func1 Can't be jitted the func1: Attempted boolean conversion of traced array with shape bool[].\n",
      "The error occurred while tracing the function func at C:\\Users\\admin\\AppData\\Local\\Temp\\ipykernel_7512\\2965334908.py:2 for jit. This concrete value was not available in Python because it depends on the value of the argument x.\n",
      "See https://jax.readthedocs.io/en/latest/errors.html#jax.errors.TracerBoolConversionError\n",
      "10\n"
     ]
    }
   ],
   "source": [
    "# We can't use loops that depends on value of input inside jit\n",
    "\n",
    "# Can't be jitted as depnds on value of x\n",
    "def func1(x):\n",
    "    y=0\n",
    "    for i in range(x):\n",
    "        y+=1\n",
    "    return y\n",
    "\n",
    "# loop depends on some static val so valid\n",
    "def func2(x):\n",
    "    y=0\n",
    "    for i in range(10):\n",
    "        y+=1\n",
    "    return y\n",
    "\n",
    "# loop depends on shape of input only so valid\n",
    "def func3(x):\n",
    "    y=0\n",
    "    for i in range(x.shape[0]):\n",
    "        y+=x[i]\n",
    "    return y\n",
    "\n",
    "\n",
    "try:\n",
    "    jitted_func1=jit(func1)\n",
    "    jitted_func(10)\n",
    "except Exception as e:\n",
    "    print(f\"func1 Can't be jitted the func1: {e}\")\n",
    "\n",
    "\n",
    "jitted_func2=jit(func2)\n",
    "print(jitted_func2(1))\n",
    "\n"
   ]
  },
  {
   "cell_type": "markdown",
   "metadata": {},
   "source": [
    "### `Control Flow and logical operators wit JIT`"
   ]
  },
  {
   "cell_type": "code",
   "execution_count": 63,
   "metadata": {},
   "outputs": [
    {
     "name": "stdout",
     "output_type": "stream",
     "text": [
      "45\n"
     ]
    }
   ],
   "source": [
    "# How to jit a func that depends on value of some input\n",
    "# We can use static_argnums/static_argnames parameter to specify the parameters for which we want to trace the value. \n",
    "# Anytime its value changes jax will re-complie th function.\n",
    "# This can be usefull if static_arg take finite no. of values as jax will cache them in backend\n",
    "\n",
    "\n",
    "def func1(x):\n",
    "    y=0\n",
    "    for i in range(x):\n",
    "        y+=i\n",
    "    return y\n",
    "\n",
    "try:\n",
    "    jitted_func1=jit(func1,static_argnames='x')\n",
    "    print(jitted_func1(10))\n",
    "except Exception as e:\n",
    "    print(f\"Can't jit func1: {e}\")"
   ]
  },
  {
   "cell_type": "markdown",
   "metadata": {},
   "source": [
    "# Structured control flow primitives\n",
    "There are more options for control flow in JAX. Say you want to avoid re-compilations but still want to use control flow that’s traceable, and that avoids un-rolling large loops. Then you can use these 4 structured control flow primitives:\n",
    "\n",
    "- `lax.cond`: differentiable\n",
    "\n",
    "- `lax.while_loop`: fwd-mode-differentiable\n",
    "\n",
    "- `lax.fori_loop`: fwd-mode-differentiable in general; fwd and rev-mode differentiable if endpoints are static.\n",
    "\n",
    "- `lax.scan`: differentiable"
   ]
  },
  {
   "cell_type": "code",
   "execution_count": 64,
   "metadata": {},
   "outputs": [
    {
     "name": "stdout",
     "output_type": "stream",
     "text": [
      "cond:True->[1.]\n",
      "cond:False->[-1.]\n",
      "===============\n",
      "10\n",
      "===============\n",
      "45\n",
      "===============\n",
      "[ 1. -2.  3.]\n",
      "===============\n"
     ]
    }
   ],
   "source": [
    "from jax import lax\n",
    "\n",
    "# These all can be jitted\n",
    "\n",
    "# conditions: lax.cond(pred,true_func,false_func,operand)\n",
    "operand = jnp.array([0.])\n",
    "print(f\"cond:True->{lax.cond(True, lambda x: x+1, lambda x: x-1, operand)}\")\n",
    "print(f\"cond:False->{lax.cond(False, lambda x: x+1, lambda x: x-1, operand)}\")\n",
    "print(\"=\"*15)\n",
    "\n",
    "# while-loop:lax.while_loop(cond_func,body_func,initial_val)\n",
    "init_val = 0\n",
    "cond_fun = lambda x: x < 10\n",
    "body_fun = lambda x: x+1\n",
    "print(lax.while_loop(cond_fun, body_fun, init_val))\n",
    "print(\"=\"*15)\n",
    "\n",
    "# for-loop: lax.fori_loop(start,stop,body_func,init_val)\n",
    "init_val = 0\n",
    "start = 0\n",
    "stop = 10\n",
    "body_fun = lambda i,x: x+i\n",
    "print(lax.fori_loop(start, stop, body_fun, init_val))\n",
    "print(\"=\"*15)\n",
    "\n",
    "# lax.select: batched version of lax.cond; lax.select(pred_arr,on_true_arr,on_false_arr)\n",
    "operand_true = jnp.array([1.0, 2.0, 3.0]) # should have same shape as pred_arr\n",
    "operand_false = jnp.array([-1.0, -2.0, -3.0]) # should have same shape as pred_arr\n",
    "\n",
    "# Selector array\n",
    "selector = jnp.array([True, False, True])\n",
    "\n",
    "# Use lax.select\n",
    "print(lax.select(selector, operand_true, operand_false))\n",
    "print(\"=\"*15)"
   ]
  },
  {
   "cell_type": "code",
   "execution_count": 65,
   "metadata": {},
   "outputs": [
    {
     "name": "stdout",
     "output_type": "stream",
     "text": [
      "True\n",
      "True\n",
      "[False  True False]\n"
     ]
    }
   ],
   "source": [
    "## Logical operators:\n",
    "\n",
    "# jax.numpy provides logical_and, logical_or, and logical_not, which operate element-wise on arrays and can be evaluated under jit without recompiling. Like their Numpy counterparts, the binary operators do not short circuit. Bitwise operators (&, |, ~) can also be used with jit.\n",
    "\n",
    "def python_check_positive_even(x):\n",
    "  is_even = x % 2 == 0\n",
    "  # `and` short-circults, so when `is_even` is `False`, `x > 0` is not evaluated.\n",
    "  return is_even and (x > 0)\n",
    "\n",
    "@jit\n",
    "def jax_check_positive_even(x):\n",
    "  is_even = x % 2 == 0\n",
    "  # `logical_and` does not short circuit, so `x > 0` is always evaluated.\n",
    "  return jnp.logical_and(is_even, x > 0)\n",
    "\n",
    "print(python_check_positive_even(24))\n",
    "print(jax_check_positive_even(24))\n",
    "\n",
    "# when the JAX version with logical_and is applied to an array, it returns elementwise values.\n",
    "x = jnp.array([-1, 2, 5])\n",
    "print(jax_check_positive_even(x))"
   ]
  },
  {
   "cell_type": "markdown",
   "metadata": {},
   "source": [
    "## `PyTrees:`\n",
    "### What are Pytrees?\n",
    "\n",
    "Pytrees are a way to represent nested data structures in JAX.\n",
    "\n",
    "They are composed of container-like Python objects (e.g., lists, tuples, dictionaries) that hold numerical data (arrays, scalars).\n",
    "\n",
    "They are used extensively in JAX for managing model parameters, state, and other data.\n",
    "\n",
    "\n",
    "### Why use Pytrees?\n",
    "- JAX functions operate on Pytrees seamlessly.\n",
    "\n",
    "- They provide structure for complex data, making it easier to manage and manipulate.\n",
    "\n",
    "- They are compatible with JAX transformations like jit, grad, vmap, etc.\n",
    "\n",
    "### Common Pytree operations:\n",
    "\n",
    "- `jax.tree.map`: similar to map in python but for pytrees leaves\n",
    "- `jax.tree.reduce:` similar to reduce,but apply function over pytree leaves.\n",
    "- `jax.tree.flatten`: flattens a pytree into a list of leaves and a treedef."
   ]
  },
  {
   "cell_type": "code",
   "execution_count": 66,
   "metadata": {},
   "outputs": [
    {
     "name": "stdout",
     "output_type": "stream",
     "text": [
      "[1, 'a', <object object at 0x0000028B3F38B010>] has 3 leaves: [1, 'a', <object object at 0x0000028B3F38B010>]\n",
      "(1, (2, 3), ())                               has 3 leaves: [1, 2, 3]\n",
      "[1, {'k1': 2, 'k2': (3, 4)}, 5]               has 5 leaves: [1, 2, 3, 4, 5]\n",
      "{'a': 2, 'b': (2, 3)}                         has 3 leaves: [2, 2, 3]\n",
      "Array([1, 2, 3], dtype=int32)                 has 1 leaves: [Array([1, 2, 3], dtype=int32)]\n"
     ]
    }
   ],
   "source": [
    "import jax\n",
    "import jax.numpy as jnp\n",
    "\n",
    "example_trees = [\n",
    "    [1, 'a', object()],\n",
    "    (1, (2, 3), ()),\n",
    "    [1, {'k1': 2, 'k2': (3, 4)}, 5],\n",
    "    {'a': 2, 'b': (2, 3)},\n",
    "    jnp.array([1, 2, 3]),\n",
    "]\n",
    "\n",
    "# Print how many leaves the pytrees have.\n",
    "for pytree in example_trees:\n",
    "  # This `jax.tree.leaves()` method extracts the flattened leaves from the pytrees.\n",
    "  leaves = jax.tree.leaves(pytree)\n",
    "  print(f\"{repr(pytree):<45} has {len(leaves)} leaves: {leaves}\")\n",
    "\n",
    "  # See,how the elements inside tuple is unrolled to create leaves but not jax.Array"
   ]
  },
  {
   "cell_type": "code",
   "execution_count": 67,
   "metadata": {},
   "outputs": [
    {
     "name": "stdout",
     "output_type": "stream",
     "text": [
      "structure:PyTreeDef([{'biases': *, 'weights': *}, {'biases': *, 'weights': *}, {'biases': *, 'weights': *}])\n",
      "\n",
      "map:[{'biases': (128,), 'weights': (1, 128)}, {'biases': (128,), 'weights': (128, 128)}, {'biases': (1,), 'weights': (128, 1)}]\n",
      "\n"
     ]
    }
   ],
   "source": [
    "# some common functions\n",
    "import numpy as np\n",
    "\n",
    "def init_mlp_params(layer_widths):\n",
    "  params = []\n",
    "  for n_in, n_out in zip(layer_widths[:-1], layer_widths[1:]):\n",
    "    params.append(\n",
    "        dict(weights=np.random.normal(size=(n_in, n_out)) * np.sqrt(2/n_in),\n",
    "             biases=np.ones(shape=(n_out,))\n",
    "            )\n",
    "    )\n",
    "  return params\n",
    "\n",
    "params = init_mlp_params([1, 128, 128, 1])\n",
    "\n",
    "# structure\n",
    "print(f\"structure:{jax.tree.structure(params)}\\n\")\n",
    "\n",
    "# leaves\n",
    "# print(f\"leaves:{jax.tree.leaves(params)}\\n\") # will print all leaves\n",
    "\n",
    "# map\n",
    "print(f\"map:{jax.tree.map(lambda x:x.shape,params)}\\n\")\n",
    "\n",
    "# flatten\n",
    "# print(f\"flatten:{jax.tree.flatten(params)}\\n\") # will returb a new list will all leaves\n",
    "\n",
    "# unflatten\n",
    "# print(f\"unflatten:{jax.tree.unflatten(jax.tree.structure(params),jax.tree.flatten(params)[0])}\\n\")\n"
   ]
  },
  {
   "cell_type": "code",
   "execution_count": 68,
   "metadata": {},
   "outputs": [
    {
     "name": "stdout",
     "output_type": "stream",
     "text": [
      "CustomNode(data=[2 4 6], metadata=exampleexample)\n",
      "\n",
      "PyTreeDef(CustomNode(CustomNode[None], [*, *]))\n",
      "\n",
      "[Array([1, 2, 3], dtype=int32), 'example']\n",
      "\n"
     ]
    }
   ],
   "source": [
    "# U can create custom pytree nodes using register_pytree_node\n",
    "# Creating custom PyTree nodes in JAX involves defining a class that can store the data structures you want to treat as PyTree nodes, and then registering this class with JAX using the jax.tree_util.register_pytree_node decorator.\n",
    "\n",
    "import jax\n",
    "import jax.numpy as jnp\n",
    "\n",
    "\n",
    "# Define a custom PyTree node class\n",
    "class CustomNode:\n",
    "    def __init__(self, data, metadata):\n",
    "        self.data = data\n",
    "        self.metadata = metadata\n",
    "\n",
    "    def __repr__(self):\n",
    "        return f\"CustomNode(data={self.data}, metadata={self.metadata})\"\n",
    "\n",
    "# Define the flatten and unflatten methods\n",
    "def custom_node_flatten(node):\n",
    "    children = (node.data, node.metadata)\n",
    "    aux_data = None\n",
    "    return children, aux_data\n",
    "\n",
    "def custom_node_unflatten(aux_data, children):\n",
    "    return CustomNode(*children)\n",
    "\n",
    "# Register the custom PyTree node\n",
    "jax.tree_util.register_pytree_node(\n",
    "    CustomNode,\n",
    "    custom_node_flatten,\n",
    "    custom_node_unflatten\n",
    ")\n",
    "\n",
    "# Example usage\n",
    "node = CustomNode(data=jnp.array([1, 2, 3]), metadata=\"example\")\n",
    "\n",
    "# Check if the node is correctly registered as a PyTree\n",
    "print(jax.tree.map(lambda x: x * 2, node))\n",
    "print()\n",
    "\n",
    "print(jax.tree.structure(node))\n",
    "print()\n",
    "\n",
    "print(jax.tree.leaves(node))\n",
    "print()"
   ]
  },
  {
   "cell_type": "markdown",
   "metadata": {},
   "source": [
    "## `Neural Net from scratch in JAX:`"
   ]
  },
  {
   "cell_type": "code",
   "execution_count": 69,
   "metadata": {},
   "outputs": [
    {
     "data": {
      "text/plain": [
       "((100,), (100,))"
      ]
     },
     "execution_count": 69,
     "metadata": {},
     "output_type": "execute_result"
    }
   ],
   "source": [
    "def generate_trigonometric_dataset(func, num_points=100, noise_std=0.3, noise_factor=1.0, x_range=(-2*jnp.pi, 2*jnp.pi)):\n",
    "    \"\"\"\n",
    "    Generates a dataset based on a trigonometric function with added noise.\n",
    "\n",
    "    Parameters:\n",
    "    - func: A trigonometric function (e.g., jnp.sin or jnp.cos).\n",
    "    - num_points: Number of data points to generate.\n",
    "    - noise_std: Standard deviation of the Gaussian noise to add.\n",
    "    - noise_factor: Factor to scale the noise level.\n",
    "    - x_range: The range of x values (default is [-2*pi, 2*pi]).\n",
    "    \n",
    "    Returns:\n",
    "    - x: The input values (independent variable).\n",
    "    - y: The output values (dependent variable) with noise added.\n",
    "    \"\"\"\n",
    "    \n",
    "    x = jnp.linspace(x_range[0], x_range[1], num_points)\n",
    "    \n",
    "    # Generate y values using the trigonometric function\n",
    "    y = func(x)\n",
    "    \n",
    "    noise = noise_factor * noise_std * random.normal(random.PRNGKey(42), (num_points,))\n",
    "    y_noisy = y + noise\n",
    "\n",
    "    return x, y_noisy\n",
    "\n",
    "\n",
    "x, y = generate_trigonometric_dataset(jnp.sin, num_points=100, noise_std=0.1, noise_factor=1.0)\n",
    "x.shape,y.shape"
   ]
  },
  {
   "cell_type": "code",
   "execution_count": 70,
   "metadata": {},
   "outputs": [
    {
     "data": {
      "image/png": "[encoded data removed]",
      "text/plain": [
       "<Figure size 640x480 with 1 Axes>"
      ]
     },
     "metadata": {},
     "output_type": "display_data"
    }
   ],
   "source": [
    "import matplotlib.pyplot as plt\n",
    "plt.scatter(x,y)\n",
    "plt.show()"
   ]
  },
  {
   "cell_type": "code",
   "execution_count": 71,
   "metadata": {},
   "outputs": [],
   "source": [
    "x=x.reshape(-1,1)\n",
    "y=y.reshape(-1,1)\n",
    "\n",
    "# Standarize the data\n",
    "x = (x - jnp.mean(x)) / jnp.std(x)\n",
    "y = (y - jnp.mean(y)) / jnp.std(y)"
   ]
  },
  {
   "cell_type": "code",
   "execution_count": 72,
   "metadata": {},
   "outputs": [],
   "source": [
    "import jax\n",
    "\n",
    "def get_params(in_dim:int,out_dim:int,key:random.key)->tuple[jnp.ndarray,jnp.ndarray]:\n",
    "    w_key,b_key = random.split(key)\n",
    "    w = random.normal(w_key,(in_dim,out_dim))\n",
    "    b = random.normal(b_key,(out_dim,))\n",
    "    return w,b\n",
    "\n",
    "def linear(layer_params:tuple[jnp.ndarray,jnp.ndarray],x:jnp.ndarray)->jnp.ndarray:\n",
    "    w,b = layer_params\n",
    "    return jnp.dot(x,w)+b\n",
    "\n",
    "def build_model(layer_sizes:list[int],key:random.key)->list[tuple[jnp.ndarray,jnp.ndarray]]:\n",
    "    keys = random.split(key,len(layer_sizes))\n",
    "    params = [get_params(layer_sizes[i],layer_sizes[i+1],keys[i]) for i in range(len(layer_sizes)-1)]\n",
    "    return params\n",
    "\n",
    "@jit\n",
    "def loss_fn(params:list[tuple[jnp.ndarray,jnp.ndarray]],x:jnp.ndarray,y:jnp.ndarray)->jnp.ndarray:\n",
    "    for w,b in params[:-1]:\n",
    "        x = linear((w,b),x)\n",
    "        x = jax.nn.relu(x)\n",
    "\n",
    "    x=linear(params[-1],x)\n",
    "    return jnp.mean((x-y)**2)\n",
    "\n",
    "def train_step(params:list[tuple[jnp.ndarray,jnp.ndarray]],x:jnp.ndarray,y:jnp.ndarray,lr:float)->list[tuple[jnp.ndarray,jnp.ndarray]]:\n",
    "    value,grads = value_and_grad(loss_fn)(params,x,y)\n",
    "    return [(w-lr*dw,b-lr*db) for (w,b),(dw,db) in zip(params,grads)]"
   ]
  },
  {
   "cell_type": "code",
   "execution_count": 1,
   "metadata": {},
   "outputs": [
    {
     "ename": "NameError",
     "evalue": "name 'build_model' is not defined",
     "output_type": "error",
     "traceback": [
      "\u001b[1;31m---------------------------------------------------------------------------\u001b[0m",
      "\u001b[1;31mNameError\u001b[0m                                 Traceback (most recent call last)",
      "Cell \u001b[1;32mIn[1], line 1\u001b[0m\n\u001b[1;32m----> 1\u001b[0m model\u001b[38;5;241m=\u001b[39m\u001b[43mbuild_model\u001b[49m([\u001b[38;5;241m1\u001b[39m,\u001b[38;5;241m20\u001b[39m,\u001b[38;5;241m50\u001b[39m,\u001b[38;5;241m50\u001b[39m,\u001b[38;5;241m1\u001b[39m],random\u001b[38;5;241m.\u001b[39mPRNGKey(\u001b[38;5;241m0\u001b[39m))\n\u001b[0;32m      3\u001b[0m \u001b[38;5;28;01mfor\u001b[39;00m p \u001b[38;5;129;01min\u001b[39;00m model:\n\u001b[0;32m      4\u001b[0m     \u001b[38;5;28mprint\u001b[39m(p[\u001b[38;5;241m0\u001b[39m]\u001b[38;5;241m.\u001b[39mshape,p[\u001b[38;5;241m1\u001b[39m]\u001b[38;5;241m.\u001b[39mshape)\n",
      "\u001b[1;31mNameError\u001b[0m: name 'build_model' is not defined"
     ]
    }
   ],
   "source": [
    "model=build_model([1,20,50,50,1],random.PRNGKey(0))\n",
    "\n",
    "for p in model:\n",
    "    print(p[0].shape,p[1].shape)"
   ]
  },
  {
   "cell_type": "code",
   "execution_count": 74,
   "metadata": {},
   "outputs": [
    {
     "name": "stdout",
     "output_type": "stream",
     "text": [
      "Epoch 200 loss: 1.02722\n",
      "\n",
      "Epoch 400 loss: 0.18422\n",
      "\n",
      "Epoch 600 loss: 0.10910\n",
      "\n",
      "Epoch 800 loss: 0.08233\n",
      "\n",
      "Epoch 1000 loss: 0.06740\n",
      "\n",
      "Epoch 1200 loss: 0.05732\n",
      "\n",
      "Epoch 1400 loss: 0.05059\n",
      "\n",
      "Epoch 1600 loss: 0.04598\n",
      "\n",
      "Epoch 1800 loss: 0.04306\n",
      "\n",
      "Epoch 2000 loss: 0.04092\n",
      "\n",
      "Epoch 2200 loss: 0.03920\n",
      "\n",
      "Epoch 2400 loss: 0.03777\n",
      "\n",
      "Epoch 2600 loss: 0.03651\n",
      "\n",
      "Epoch 2800 loss: 0.03546\n",
      "\n",
      "Epoch 3000 loss: 0.03459\n",
      "\n"
     ]
    }
   ],
   "source": [
    "lr=1e-4\n",
    "epochs=3000\n",
    "for epoch in range(epochs):\n",
    "    model = train_step(model,x,y,lr)\n",
    "    if (epoch+1)%200==0:\n",
    "        print(f\"Epoch {epoch+1} loss: {loss_fn(model,x,y):.5f}\\n\")"
   ]
  },
  {
   "cell_type": "code",
   "execution_count": 75,
   "metadata": {},
   "outputs": [
    {
     "data": {
      "image/png": "[encoded data removed]",
      "text/plain": [
       "<Figure size 640x480 with 1 Axes>"
      ]
     },
     "metadata": {},
     "output_type": "display_data"
    }
   ],
   "source": [
    "out=x\n",
    "for p in model[:-1]:\n",
    "    out=linear(p,out)\n",
    "    out=jax.nn.relu(out)\n",
    "\n",
    "out=linear(model[-1],out)\n",
    "\n",
    "plt.scatter(x,y)\n",
    "plt.plot(x,out,color='red')\n",
    "plt.show()"
   ]
  }
 ],
 "metadata": {
  "kernelspec": {
   "display_name": "ai_workbench",
   "language": "python",
   "name": "python3"
  },
  "language_info": {
   "codemirror_mode": {
    "name": "ipython",
    "version": 3
   },
   "file_extension": ".py",
   "mimetype": "text/x-python",
   "name": "python",
   "nbconvert_exporter": "python",
   "pygments_lexer": "ipython3",
   "version": "3.12.7"
  }
 },
 "nbformat": 4,
 "nbformat_minor": 2
}
