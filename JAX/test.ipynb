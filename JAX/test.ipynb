{
 "cells": [
  {
   "cell_type": "code",
   "execution_count": 9,
   "metadata": {},
   "outputs": [],
   "source": [
    "import jax\n",
    "import jax.numpy as jnp\n",
    "\n",
    "import numpy as np\n",
    "import pandas as pd\n",
    "import matplotlib.pyplot as plt\n",
    "import seaborn as sns\n",
    "\n",
    "from sklearn.datasets import load_iris\n",
    "from sklearn.model_selection import train_test_split\n",
    "from sklearn.preprocessing import StandardScaler,OneHotEncoder\n"
   ]
  },
  {
   "cell_type": "code",
   "execution_count": 10,
   "metadata": {},
   "outputs": [
    {
     "name": "stdout",
     "output_type": "stream",
     "text": [
      "((112, 4), (112, 3)) ((38, 4), (38, 3))\n"
     ]
    }
   ],
   "source": [
    "X,y=load_iris(return_X_y=True)\n",
    "X_train,X_test,y_train,y_test=train_test_split(X,y,random_state=42)\n",
    "\n",
    "scaler=StandardScaler()\n",
    "one_hot_encoder=OneHotEncoder(sparse_output=False)\n",
    "\n",
    "X_train,y_train=scaler.fit_transform(X_train),one_hot_encoder.fit_transform(y_train.reshape(-1,1))\n",
    "X_test,y_test=scaler.transform(X_test),one_hot_encoder.transform(y_test.reshape(-1,1))\n",
    "\n",
    "\n",
    "\n",
    "print((X_train.shape,y_train.shape),(X_test.shape,y_test.shape))"
   ]
  },
  {
   "cell_type": "code",
   "execution_count": 11,
   "metadata": {},
   "outputs": [],
   "source": [
    "X_train,y_train=jnp.array(X_train),jnp.array(y_train)\n",
    "X_test,y_test=jnp.array(X_test),jnp.array(y_test)"
   ]
  },
  {
   "cell_type": "code",
   "execution_count": 12,
   "metadata": {},
   "outputs": [],
   "source": [
    "from contextlib import contextmanager\n",
    "from typing import Callable, Sequence\n",
    "import flax.linen as nn\n",
    "\n",
    "\n",
    "\n",
    "class CustomDense(nn.Module):\n",
    "    features:int\n",
    "    activation:Callable=nn.relu\n",
    "    dropout:float=0.3\n",
    "\n",
    "    def setup(self):\n",
    "        self.dense=[\n",
    "            nn.Dense(self.features),\n",
    "            nn.Dropout(self.dropout),\n",
    "            self.activation,\n",
    "            nn.BatchNorm()\n",
    "        ]\n",
    "\n",
    "\n",
    "    def __call__(self,x,training=False):\n",
    "       for layer in self.dense:\n",
    "            if isinstance(layer,nn.BatchNorm):\n",
    "               x=layer(x,use_running_average=not training)\n",
    "            elif isinstance(layer,nn.Dropout):\n",
    "                x=layer(x,deterministic=not training) \n",
    "            else:\n",
    "                x=layer(x)\n",
    "            return x\n",
    "\n",
    "\n",
    "class MLP(nn.Module):\n",
    "    layer_sizes:Sequence[int]\n",
    "    activation:Callable=nn.relu\n",
    "\n",
    "    def setup(self):\n",
    "        __layers=[CustomDense(features) for features in self.layer_sizes[:-1]]\n",
    "        __layers.append(nn.Dense(self.layer_sizes[-1]))\n",
    "\n",
    "        self.mlp=__layers\n",
    "\n",
    "    def __call__(self,x,training=False):\n",
    "        for layer in self.mlp:\n",
    "            if isinstance(layer,CustomDense):\n",
    "                x=layer(x,training=training)\n",
    "            else:\n",
    "                x=layer(x)\n",
    "        return x"
   ]
  },
  {
   "cell_type": "code",
   "execution_count": 13,
   "metadata": {},
   "outputs": [
    {
     "data": {
      "text/plain": [
       "MLP(\n",
       "    # attributes\n",
       "    layer_sizes = [16, 16, 3]\n",
       "    activation = relu\n",
       ")"
      ]
     },
     "execution_count": 13,
     "metadata": {},
     "output_type": "execute_result"
    }
   ],
   "source": [
    "mlp=MLP([16,16,3])\n",
    "mlp"
   ]
  },
  {
   "cell_type": "code",
   "execution_count": 14,
   "metadata": {},
   "outputs": [
    {
     "data": {
      "text/plain": [
       "{'params': {'mlp_0': {'dense_0': {'kernel': Array([[-0.2500764 ,  0.321198  , -0.43895745, -0.18518311,  0.82215154,\n",
       "            -0.40394294,  0.02157013, -0.5264202 ,  0.6462952 ,  0.10710552,\n",
       "            -1.0247616 , -0.1418568 , -0.81232756, -0.70297426, -0.18576325,\n",
       "             0.14239244],\n",
       "           [-0.9592025 , -0.40239382, -0.3990191 , -0.1311315 ,  0.65223044,\n",
       "             0.07760987, -0.01750862, -0.04786694, -0.17399241,  0.92125714,\n",
       "             0.47253236,  0.79109526,  0.22479118,  0.9483041 ,  0.19801874,\n",
       "            -0.39667287],\n",
       "           [ 0.4215961 , -0.06598052, -0.20873363, -0.09556825,  1.0956135 ,\n",
       "             0.23875721,  0.5886765 , -0.15583332,  0.83828825, -0.21923168,\n",
       "             0.5203881 , -0.13622479, -0.3613821 , -0.0828403 ,  0.23255756,\n",
       "            -0.9218056 ],\n",
       "           [ 0.4813464 , -0.62470704,  0.770763  , -0.38405102,  0.5112657 ,\n",
       "             0.25096774, -0.31449082, -0.10360464,  1.1194936 ,  0.09932385,\n",
       "             0.09045017,  0.6672008 , -0.15074137, -0.5060328 ,  0.14948967,\n",
       "            -0.04575722]], dtype=float32),\n",
       "    'bias': Array([0., 0., 0., 0., 0., 0., 0., 0., 0., 0., 0., 0., 0., 0., 0., 0.],      dtype=float32)}},\n",
       "  'mlp_1': {'dense_0': {'kernel': Array([[-0.2510362 , -0.07950188,  0.25666723, -0.00882511,  0.13270271,\n",
       "             0.24035211, -0.07729704,  0.17663313, -0.17607416,  0.2841505 ,\n",
       "             0.26677212, -0.28217256, -0.32398996, -0.3938322 ,  0.01957746,\n",
       "             0.04104848],\n",
       "           [ 0.32128772, -0.2372852 ,  0.3045898 , -0.27641127, -0.18138452,\n",
       "            -0.15879439, -0.15820108, -0.0687682 , -0.18388408, -0.13289674,\n",
       "             0.32185537,  0.24371557, -0.17820078, -0.16030285,  0.31057072,\n",
       "            -0.25085554],\n",
       "           [-0.28456715,  0.33497617, -0.01756509, -0.13466462, -0.2873008 ,\n",
       "            -0.11315007, -0.30700415, -0.11822639, -0.04004597,  0.15486726,\n",
       "            -0.33291852, -0.31798032, -0.00653483, -0.08505838,  0.07132378,\n",
       "            -0.16528822],\n",
       "           [ 0.27349138, -0.10289377,  0.32147023, -0.12473117, -0.2032653 ,\n",
       "             0.23781411, -0.12429397, -0.3177973 ,  0.21620752,  0.16896239,\n",
       "            -0.0674707 , -0.19980352, -0.149245  , -0.03140386, -0.25347266,\n",
       "            -0.5465951 ],\n",
       "           [ 0.05521725, -0.26564574,  0.47667485,  0.18335925,  0.2512772 ,\n",
       "            -0.02039131,  0.17464282,  0.22370519,  0.2259503 , -0.09761374,\n",
       "             0.15312982,  0.00756975, -0.30815056, -0.02013605, -0.02028533,\n",
       "             0.22552603],\n",
       "           [ 0.24567372,  0.05605273, -0.01013248,  0.37160888, -0.11504901,\n",
       "            -0.1037792 , -0.21349171,  0.19905902, -0.37905294, -0.06386157,\n",
       "             0.06148713,  0.0923865 , -0.16431959, -0.3175705 ,  0.4761529 ,\n",
       "            -0.3334684 ],\n",
       "           [ 0.4935381 ,  0.01583662,  0.07262228,  0.5374238 ,  0.18109037,\n",
       "            -0.05011296,  0.07574035,  0.18393275,  0.12515081, -0.36255214,\n",
       "             0.2602564 ,  0.42198446, -0.0479054 ,  0.37390125, -0.48212332,\n",
       "             0.47252408],\n",
       "           [-0.17482115, -0.26780373,  0.39171976,  0.04253649,  0.2440767 ,\n",
       "            -0.23928079,  0.20806365, -0.10215195, -0.02028761,  0.20729598,\n",
       "             0.09992152, -0.12172337, -0.4094172 ,  0.1164154 ,  0.23842296,\n",
       "             0.29939985],\n",
       "           [-0.01069859,  0.18070216, -0.24187161,  0.43907005,  0.27640802,\n",
       "             0.11976103,  0.12126783, -0.33497894,  0.00427927, -0.40071452,\n",
       "             0.02685428,  0.32401785,  0.18095474,  0.0621529 , -0.14189853,\n",
       "            -0.03606699],\n",
       "           [-0.3302909 ,  0.18833151, -0.24429728, -0.03278355,  0.02602964,\n",
       "            -0.23339641,  0.19999991,  0.50116867,  0.22894293,  0.10337586,\n",
       "            -0.1651026 ,  0.0749079 ,  0.31642148,  0.11967643,  0.03092997,\n",
       "            -0.0649998 ],\n",
       "           [-0.26007724, -0.09618553,  0.06613405, -0.04146726, -0.10756122,\n",
       "             0.43354234, -0.39092532, -0.4830661 ,  0.09490164, -0.28746513,\n",
       "            -0.0158924 ,  0.02926732,  0.5031281 , -0.2464398 ,  0.08183353,\n",
       "             0.12544928],\n",
       "           [ 0.3127825 , -0.05133169, -0.2440949 ,  0.06398122, -0.0890331 ,\n",
       "             0.16679348,  0.13830997,  0.10670216, -0.40593708, -0.24758656,\n",
       "            -0.0927863 , -0.20907837, -0.04816047, -0.00294715, -0.01516167,\n",
       "             0.01123173],\n",
       "           [-0.10710264, -0.14397486, -0.08745547, -0.2522293 , -0.5106105 ,\n",
       "             0.01336875,  0.3909792 , -0.29591274, -0.0233766 , -0.3352062 ,\n",
       "             0.04191186, -0.11532789,  0.03466532,  0.16828546,  0.1935483 ,\n",
       "             0.4378258 ],\n",
       "           [-0.35922965,  0.4279434 , -0.22946943, -0.27531803,  0.41802707,\n",
       "             0.21759704,  0.18453056,  0.09828369, -0.22643983,  0.1841726 ,\n",
       "            -0.35374266, -0.20110281,  0.26917228, -0.0966735 ,  0.5629638 ,\n",
       "             0.05645539],\n",
       "           [-0.04265519, -0.46583062,  0.1290167 , -0.32055515, -0.24396774,\n",
       "             0.03899936,  0.28291494,  0.2621318 , -0.4212718 ,  0.11790438,\n",
       "             0.29531673, -0.0091419 ,  0.04645381,  0.25605807, -0.4449997 ,\n",
       "            -0.315707  ],\n",
       "           [-0.26310924,  0.5097878 , -0.1831021 , -0.05663812, -0.42248252,\n",
       "            -0.4714942 ,  0.23817356,  0.01825777, -0.5153568 ,  0.48839715,\n",
       "             0.00799913, -0.23891361, -0.46908674, -0.49646682,  0.30276597,\n",
       "             0.02558082]], dtype=float32),\n",
       "    'bias': Array([0., 0., 0., 0., 0., 0., 0., 0., 0., 0., 0., 0., 0., 0., 0., 0.],      dtype=float32)}},\n",
       "  'mlp_2': {'kernel': Array([[ 0.03382413, -0.212135  ,  0.25392452],\n",
       "          [-0.06232718, -0.45195273,  0.35267884],\n",
       "          [ 0.13626039,  0.02865032,  0.06839465],\n",
       "          [-0.40449992, -0.324082  ,  0.4001599 ],\n",
       "          [-0.27006269, -0.56102204,  0.25480923],\n",
       "          [ 0.14344269, -0.43089533,  0.2732801 ],\n",
       "          [-0.27107084,  0.24597654,  0.19583751],\n",
       "          [ 0.41966757, -0.18477131,  0.21611601],\n",
       "          [ 0.07771383,  0.11191547,  0.04676413],\n",
       "          [ 0.4518274 , -0.07843003,  0.12604155],\n",
       "          [-0.5336997 ,  0.21657902,  0.01107094],\n",
       "          [ 0.11744213,  0.13296899, -0.21103355],\n",
       "          [ 0.22425736, -0.28321043,  0.28920594],\n",
       "          [ 0.30976656, -0.30528596,  0.1482376 ],\n",
       "          [-0.00826456, -0.11765096,  0.07081386],\n",
       "          [-0.20246974, -0.10423329, -0.24306487]], dtype=float32),\n",
       "   'bias': Array([0., 0., 0.], dtype=float32)}}}"
      ]
     },
     "execution_count": 14,
     "metadata": {},
     "output_type": "execute_result"
    }
   ],
   "source": [
    "variables=mlp.init(jax.random.PRNGKey(42),X_train[:32])\n",
    "variables"
   ]
  },
  {
   "cell_type": "code",
   "execution_count": 15,
   "metadata": {},
   "outputs": [],
   "source": [
    "params=variables['params']"
   ]
  },
  {
   "cell_type": "code",
   "execution_count": 16,
   "metadata": {},
   "outputs": [
    {
     "name": "stdout",
     "output_type": "stream",
     "text": [
      "{'params': {'mlp_0': {'dense_0': {'bias': (16,), 'kernel': (4, 16)}}, 'mlp_1': {'dense_0': {'bias': (16,), 'kernel': (16, 16)}}, 'mlp_2': {'bias': (3,), 'kernel': (16, 3)}}}\n"
     ]
    }
   ],
   "source": [
    "print(jax.tree.map(lambda x:x.shape,variables))"
   ]
  },
  {
   "cell_type": "code",
   "execution_count": 17,
   "metadata": {},
   "outputs": [
    {
     "name": "stdout",
     "output_type": "stream",
     "text": [
      "\n",
      "\u001b[3m                                  MLP Summary                                  \u001b[0m\n",
      "┌───────────────┬─────────────┬───────────────┬───────────────┬───────────────┐\n",
      "│\u001b[1m \u001b[0m\u001b[1mpath         \u001b[0m\u001b[1m \u001b[0m│\u001b[1m \u001b[0m\u001b[1mmodule     \u001b[0m\u001b[1m \u001b[0m│\u001b[1m \u001b[0m\u001b[1minputs       \u001b[0m\u001b[1m \u001b[0m│\u001b[1m \u001b[0m\u001b[1moutputs      \u001b[0m\u001b[1m \u001b[0m│\u001b[1m \u001b[0m\u001b[1mparams       \u001b[0m\u001b[1m \u001b[0m│\n",
      "├───────────────┼─────────────┼───────────────┼───────────────┼───────────────┤\n",
      "│               │ MLP         │ \u001b[2mfloat32\u001b[0m[32,4] │ \u001b[2mfloat32\u001b[0m[32,3] │               │\n",
      "├───────────────┼─────────────┼───────────────┼───────────────┼───────────────┤\n",
      "│ mlp_0         │ CustomDense │ -             │ \u001b[2mfloat32\u001b[0m[32,1… │               │\n",
      "│               │             │ \u001b[2mfloat32\u001b[0m[32,4] │               │               │\n",
      "│               │             │ - training:   │               │               │\n",
      "│               │             │ False         │               │               │\n",
      "├───────────────┼─────────────┼───────────────┼───────────────┼───────────────┤\n",
      "│ mlp_0/dense_0 │ Dense       │ \u001b[2mfloat32\u001b[0m[32,4] │ \u001b[2mfloat32\u001b[0m[32,1… │ bias:         │\n",
      "│               │             │               │               │ \u001b[2mfloat32\u001b[0m[16]   │\n",
      "│               │             │               │               │ kernel:       │\n",
      "│               │             │               │               │ \u001b[2mfloat32\u001b[0m[4,16] │\n",
      "│               │             │               │               │               │\n",
      "│               │             │               │               │ \u001b[1m80 \u001b[0m\u001b[1;2m(320 B)\u001b[0m    │\n",
      "├───────────────┼─────────────┼───────────────┼───────────────┼───────────────┤\n",
      "│ mlp_1         │ CustomDense │ -             │ \u001b[2mfloat32\u001b[0m[32,1… │               │\n",
      "│               │             │ \u001b[2mfloat32\u001b[0m[32,1… │               │               │\n",
      "│               │             │ - training:   │               │               │\n",
      "│               │             │ False         │               │               │\n",
      "├───────────────┼─────────────┼───────────────┼───────────────┼───────────────┤\n",
      "│ mlp_1/dense_0 │ Dense       │ \u001b[2mfloat32\u001b[0m[32,1… │ \u001b[2mfloat32\u001b[0m[32,1… │ bias:         │\n",
      "│               │             │               │               │ \u001b[2mfloat32\u001b[0m[16]   │\n",
      "│               │             │               │               │ kernel:       │\n",
      "│               │             │               │               │ \u001b[2mfloat32\u001b[0m[16,1… │\n",
      "│               │             │               │               │               │\n",
      "│               │             │               │               │ \u001b[1m272 \u001b[0m\u001b[1;2m(1.1 KB)\u001b[0m  │\n",
      "├───────────────┼─────────────┼───────────────┼───────────────┼───────────────┤\n",
      "│ mlp_2         │ Dense       │ \u001b[2mfloat32\u001b[0m[32,1… │ \u001b[2mfloat32\u001b[0m[32,3] │ bias:         │\n",
      "│               │             │               │               │ \u001b[2mfloat32\u001b[0m[3]    │\n",
      "│               │             │               │               │ kernel:       │\n",
      "│               │             │               │               │ \u001b[2mfloat32\u001b[0m[16,3] │\n",
      "│               │             │               │               │               │\n",
      "│               │             │               │               │ \u001b[1m51 \u001b[0m\u001b[1;2m(204 B)\u001b[0m    │\n",
      "├───────────────┼─────────────┼───────────────┼───────────────┼───────────────┤\n",
      "│\u001b[1m \u001b[0m\u001b[1m             \u001b[0m\u001b[1m \u001b[0m│\u001b[1m \u001b[0m\u001b[1m           \u001b[0m\u001b[1m \u001b[0m│\u001b[1m \u001b[0m\u001b[1m             \u001b[0m\u001b[1m \u001b[0m│\u001b[1m \u001b[0m\u001b[1m        Total\u001b[0m\u001b[1m \u001b[0m│\u001b[1m \u001b[0m\u001b[1m403 \u001b[0m\u001b[1;2m(1.6 KB)\u001b[0m\u001b[1m \u001b[0m\u001b[1m \u001b[0m│\n",
      "└───────────────┴─────────────┴───────────────┴───────────────┴───────────────┘\n",
      "\u001b[1m                                                                               \u001b[0m\n",
      "\u001b[1m                        Total Parameters: 403 \u001b[0m\u001b[1;2m(1.6 KB)\u001b[0m\u001b[1m                         \u001b[0m\n",
      "\n",
      "\n"
     ]
    }
   ],
   "source": [
    "print(mlp.tabulate(jax.random.key(0),X_train[:32]))"
   ]
  },
  {
   "cell_type": "code",
   "execution_count": 18,
   "metadata": {},
   "outputs": [],
   "source": [
    "from optax import sgd,softmax_cross_entropy\n",
    "from flax.training import train_state\n",
    "\n",
    "state=train_state.TrainState.create(\n",
    "    apply_fn=mlp.apply,\n",
    "    params=params,\n",
    "    tx=sgd(0.03),\n",
    ")\n",
    "\n",
    "\n",
    "# @jax.jit\n",
    "def calculate_loss_and_acc(state:train_state.TrainState,params,x:jax.Array,y:jax.Array,training:bool)->tuple[jnp.ndarray,jnp.ndarray]:\n",
    "    logits=state.apply_fn({\"params\":params},x,training=training)\n",
    "    loss=softmax_cross_entropy(logits,y).mean()\n",
    "    accuracy=jnp.mean(jnp.argmax(logits,-1)==jnp.argmax(y,-1))\n",
    "    return loss,accuracy\n",
    "\n",
    "@jax.jit\n",
    "def train_step(state:train_state.TrainState,x:jax.Array,y:jax.Array)->tuple[train_state.TrainState,jnp.ndarray,jnp.ndarray]:\n",
    "    # grad-fn\n",
    "    grad_fn=jax.value_and_grad(calculate_loss_and_acc,has_aux=True,argnums=1)\n",
    "\n",
    "    (loss,accuracy),grads=grad_fn(state,state.params,x,y,training=True)\n",
    "    state=state.apply_gradients(grads=grads)\n",
    "    return state,loss,accuracy\n",
    "\n",
    "@jax.jit\n",
    "def valid_step(state:train_state.TrainState,x:jax.Array,y:jax.Array)->tuple[jnp.ndarray,jnp.ndarray]:\n",
    "    loss,accuracy=calculate_loss_and_acc(state,state.params,x,y,training=False)\n",
    "    return loss,accuracy"
   ]
  },
  {
   "cell_type": "code",
   "execution_count": 19,
   "metadata": {},
   "outputs": [
    {
     "name": "stdout",
     "output_type": "stream",
     "text": [
      "Epoch 5/75\n",
      "Train loss: 0.3820, Train accuracy: 0.8594\n",
      "Valid loss: 0.4206, Valid accuracy: 0.7188\n",
      "\n",
      "Epoch 10/75\n",
      "Train loss: 0.3281, Train accuracy: 0.8672\n",
      "Valid loss: 0.3505, Valid accuracy: 0.7188\n",
      "\n",
      "Epoch 15/75\n",
      "Train loss: 0.2888, Train accuracy: 0.8906\n",
      "Valid loss: 0.2967, Valid accuracy: 0.9010\n",
      "\n",
      "Epoch 20/75\n",
      "Train loss: 0.2573, Train accuracy: 0.9219\n",
      "Valid loss: 0.2526, Valid accuracy: 0.9010\n",
      "\n",
      "Epoch 25/75\n",
      "Train loss: 0.2310, Train accuracy: 0.9453\n",
      "Valid loss: 0.2158, Valid accuracy: 0.9010\n",
      "\n",
      "Epoch 30/75\n",
      "Train loss: 0.2087, Train accuracy: 0.9453\n",
      "Valid loss: 0.1847, Valid accuracy: 0.9844\n",
      "\n",
      "Epoch 35/75\n",
      "Train loss: 0.1895, Train accuracy: 0.9453\n",
      "Valid loss: 0.1587, Valid accuracy: 0.9844\n",
      "\n",
      "Epoch 40/75\n",
      "Train loss: 0.1730, Train accuracy: 0.9531\n",
      "Valid loss: 0.1368, Valid accuracy: 0.9844\n",
      "\n",
      "Epoch 45/75\n",
      "Train loss: 0.1588, Train accuracy: 0.9609\n",
      "Valid loss: 0.1186, Valid accuracy: 0.9844\n",
      "\n",
      "Epoch 50/75\n",
      "Train loss: 0.1465, Train accuracy: 0.9688\n",
      "Valid loss: 0.1035, Valid accuracy: 1.0000\n",
      "\n",
      "Epoch 55/75\n",
      "Train loss: 0.1359, Train accuracy: 0.9688\n",
      "Valid loss: 0.0909, Valid accuracy: 1.0000\n",
      "\n",
      "Epoch 60/75\n",
      "Train loss: 0.1268, Train accuracy: 0.9688\n",
      "Valid loss: 0.0805, Valid accuracy: 1.0000\n",
      "\n",
      "Epoch 65/75\n",
      "Train loss: 0.1190, Train accuracy: 0.9688\n",
      "Valid loss: 0.0719, Valid accuracy: 1.0000\n",
      "\n",
      "Epoch 70/75\n",
      "Train loss: 0.1122, Train accuracy: 0.9688\n",
      "Valid loss: 0.0647, Valid accuracy: 1.0000\n",
      "\n",
      "Epoch 75/75\n",
      "Train loss: 0.1063, Train accuracy: 0.9688\n",
      "Valid loss: 0.0586, Valid accuracy: 1.0000\n",
      "\n"
     ]
    }
   ],
   "source": [
    "import math\n",
    "\n",
    "\n",
    "EPOCHS=75\n",
    "BATCH_SIZE=32\n",
    "\n",
    "history={'train_loss':[],'val_loss':[],'train_accuracy':[],'val_accuracy':[]}\n",
    "for epoch in range(EPOCHS):\n",
    "    n=math.ceil(X_train.shape[0]/BATCH_SIZE)\n",
    "    _loss,_accuracy=0.0,0.0\n",
    "    for i in range(n):\n",
    "        x=X_train[i*BATCH_SIZE:(i+1)*BATCH_SIZE]\n",
    "        y=y_train[i*BATCH_SIZE:(i+1)*BATCH_SIZE]\n",
    "        state,loss,accuracy=train_step(state,x,y)\n",
    "        _loss+=loss\n",
    "        _accuracy+=accuracy\n",
    "    history['train_loss'].append(_loss/n)\n",
    "    history['train_accuracy'].append(_accuracy/n)\n",
    "\n",
    "\n",
    "    n=math.ceil(X_test.shape[0]/BATCH_SIZE)\n",
    "    _loss,_accuracy=0.0,0.0\n",
    "    for i in range(n):\n",
    "        x=X_test[i*BATCH_SIZE:(i+1)*BATCH_SIZE]\n",
    "        y=y_test[i*BATCH_SIZE:(i+1)*BATCH_SIZE]\n",
    "        loss,accuracy=valid_step(state,x,y)\n",
    "        _loss+=loss\n",
    "        _accuracy+=accuracy\n",
    "    history['val_loss'].append(_loss/n)\n",
    "    history['val_accuracy'].append(_accuracy/n)\n",
    "\n",
    "    if (epoch+1)%5==0:\n",
    "        print(f'Epoch {epoch+1}/{EPOCHS}')\n",
    "        print(f'Train loss: {history[\"train_loss\"][-1]:.4f}, Train accuracy: {history[\"train_accuracy\"][-1]:.4f}')\n",
    "        print(f'Valid loss: {history[\"val_loss\"][-1]:.4f}, Valid accuracy: {history[\"val_accuracy\"][-1]:.4f}')\n",
    "        print('')"
   ]
  },
  {
   "cell_type": "code",
   "execution_count": 20,
   "metadata": {},
   "outputs": [],
   "source": [
    "def plot_history(history,metric,train_kwargs={},val_kwargs={}):\n",
    "    plt.plot(history[f'train_{metric}'],label=f'train_{metric}',**train_kwargs)\n",
    "    plt.plot(history[f'val_{metric}'],label=f'val_{metric}',**val_kwargs)\n",
    "    plt.xlabel('Epochs')\n",
    "    plt.ylabel(metric)\n",
    "    plt.legend()\n",
    "    plt.show()"
   ]
  },
  {
   "cell_type": "code",
   "execution_count": 21,
   "metadata": {},
   "outputs": [
    {
     "data": {
      "image/png": "[encoded data removed]",
      "text/plain": [
       "<Figure size 640x480 with 1 Axes>"
      ]
     },
     "metadata": {},
     "output_type": "display_data"
    }
   ],
   "source": [
    "plot_history(history,'loss')"
   ]
  },
  {
   "cell_type": "code",
   "execution_count": 22,
   "metadata": {},
   "outputs": [
    {
     "data": {
      "image/png": "[encoded data removed]",
      "text/plain": [
       "<Figure size 640x480 with 1 Axes>"
      ]
     },
     "metadata": {},
     "output_type": "display_data"
    }
   ],
   "source": [
    "plot_history(history,'accuracy')"
   ]
  }
 ],
 "metadata": {
  "kernelspec": {
   "display_name": "ai_workbench",
   "language": "python",
   "name": "python3"
  },
  "language_info": {
   "codemirror_mode": {
    "name": "ipython",
    "version": 3
   },
   "file_extension": ".py",
   "mimetype": "text/x-python",
   "name": "python",
   "nbconvert_exporter": "python",
   "pygments_lexer": "ipython3",
   "version": "3.12.7"
  }
 },
 "nbformat": 4,
 "nbformat_minor": 2
}
